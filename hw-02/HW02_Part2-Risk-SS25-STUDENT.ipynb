{
 "cells": [
  {
   "cell_type": "markdown",
   "metadata": {},
   "source": [
    "# Homework Assignment 2 \n",
    "\n",
    "## Risk Graph\n",
    "\n",
    "### (Notebook 2 of 2)\n",
    "\n"
   ]
  },
  {
   "cell_type": "markdown",
   "metadata": {},
   "source": [
    "### <p style=\"text-align: right;\"> &#9989; Khushi.</p>\n",
    "### <p style=\"text-align: right;\"> &#9989; khushilute.</p>"
   ]
  },
  {
   "cell_type": "markdown",
   "metadata": {},
   "source": [
    "## Assignment Overview\n",
    "\n",
    "In this assignment, we'll explore graphs using the board game Risk as our practical example. Risk is a strategy game played on a world map where territories are connected to their neighbors. This makes it a perfect candidate for graph representation and analysis.\n",
    "\n",
    "### Learning Objectives\n",
    "\n",
    "- Implement a graph representation of a real-world game board\n",
    "- practice using networkx\n",
    "- do some research\n",
    "- visualize graph data using NetworkX\n",
    "\n",
    "The assignment is split into two notebooks:\n",
    "- Notebook 1 of 2 is worth **14 + 33 + 3 = 51 points** \n",
    "- Notebook 2 of 2 is worth **1+ 42 + 1 = 44 points** \n",
    "for a total of **95 points**. Point values for each part are included in the section headers and question prompts.\n",
    "\n",
    "**This assignment is due at 11:59 pm on Friday, March 21st.** It should be uploaded into the \"Homework Assignments\" submission folder for Homework #2 on D2L.  Submission instructions can be found at the end of the notebook. **You must also fill out a survey regarding this assignment.** The link to this survey can also be found at the end of the notebook.\n",
    "\n",
    "---\n",
    "## &#128721; STOP\n",
    "**Pause to add this file and commit your changes to your Git repository! (1 points)**\n",
    "\n",
    "---"
   ]
  },
  {
   "cell_type": "code",
   "execution_count": 1,
   "metadata": {},
   "outputs": [],
   "source": [
    "import networkx as nx\n",
    "import matplotlib.pyplot as plt\n",
    "import matplotlib as mpl\n",
    "import seaborn as sns\n",
    "import pandas as pd\n",
    "import numpy as np"
   ]
  },
  {
   "cell_type": "markdown",
   "metadata": {},
   "source": [
    "---\n",
    "<a id=\"part3\"></a>\n",
    "[Back to ToC](#toc)\n",
    "\n",
    "## Part 3: Creating the Risk Game Graph (42 points)\n",
    "\n",
    "\n",
    "![image](https://cf.geekdo-images.com/JM6hEipDwIByZKEIK9Dgeg__imagepage/img/OEl2gaJbUxdvIv6tNPzDsQyLUtQ=/fit-in/900x600/filters:no_upscale():strip_icc()/pic365731.jpg)\n",
    "\n",
    "\n",
    "&#9989; **Question 3.1 (5 points)**: Create a dictionary that defines the territories in Risk, organized by continents. Each territory should include its neighboring territories. Use the image above for completing the code below"
   ]
  },
  {
   "cell_type": "code",
   "execution_count": 5,
   "metadata": {},
   "outputs": [],
   "source": [
    "risk_territories = {\n",
    "    'North America': {\n",
    "        'Alaska': ['Northwest Territory', 'Alberta', 'Kamchatka'],\n",
    "        'Northwest Territory': ['Alaska', 'Alberta', 'Greenland'],\n",
    "        'Greenland': ['Northwest Territory', 'Ontario', 'Quebec', 'Iceland'],\n",
    "        'Alberta': ['Alaska', 'Northwest Territory', 'Ontario', 'Western United States'],\n",
    "        'Ontario': ['Alberta', 'Northwest Territory', 'Greenland', 'Quebec', 'Western United States', 'Eastern United States'],\n",
    "        'Quebec': ['Ontario', 'Greenland', 'Eastern United States'],\n",
    "        'Western United States': ['Alberta', 'Ontario', 'Eastern United States', 'Central America'],\n",
    "        'Eastern United States': ['Western United States', 'Ontario', 'Quebec', 'Central America'],\n",
    "        'Central America': ['Western United States', 'Eastern United States', 'Venezuela']\n",
    "    },\n",
    "    'South America': {\n",
    "        'Venezuela': ['Central America', 'Brazil', 'Peru'],\n",
    "        'Brazil': ['Venezuela', 'Peru', 'Argentina', 'Western Europe', 'Africa'],\n",
    "        'Peru': ['Venezuela', 'Brazil', 'Argentina'],\n",
    "        'Argentina': ['Peru', 'Brazil']\n",
    "    },\n",
    "    'Europe': {\n",
    "        'Iceland': ['Greenland', 'Scandinavia'],\n",
    "        'Greenland': ['Iceland', 'Quebec', 'Ontario', 'Scandinavia', 'Western Europe'],\n",
    "        'Scandinavia': ['Iceland', 'Greenland', 'Ukraine', 'Northern Europe'],\n",
    "        'Northern Europe': ['Scandinavia', 'Ukraine', 'Germany', 'Great Britain'],\n",
    "        'Ukraine': ['Scandinavia', 'Northern Europe', 'Germany', 'Poland', 'Southern Europe'],\n",
    "        'Germany': ['Ukraine', 'Northern Europe', 'Southern Europe', 'Poland', 'Western Europe'],\n",
    "        'Poland': ['Germany', 'Ukraine', 'Southern Europe', 'Western Europe'],\n",
    "        'Southern Europe': ['Poland', 'Germany', 'Ukraine', 'Western Europe', 'Italy'],\n",
    "        'Italy': ['Southern Europe', 'Western Europe'],\n",
    "        'Western Europe': ['Greenland', 'Germany', 'Southern Europe', 'Italy', 'Great Britain'],\n",
    "        'Great Britain': ['Western Europe', 'Northern Europe'],\n",
    "    },\n",
    "    'Africa': {\n",
    "        'North Africa': ['Western Europe', 'Southern Europe', 'Egypt', 'East Africa'],\n",
    "        'Egypt': ['North Africa', 'East Africa', 'Middle East'],\n",
    "        'East Africa': ['North Africa', 'South Africa', 'Egypt', 'Madagascar'],\n",
    "        'South Africa': ['East Africa', 'Madagascar'],\n",
    "        'Madagascar': ['East Africa', 'South Africa'],\n",
    "        'West Africa': ['North Africa', 'Central Africa', 'East Africa'],\n",
    "        'Central Africa': ['West Africa', 'East Africa', 'South Africa']\n",
    "    },\n",
    "    'Asia': {\n",
    "        'Ural': ['Scandinavia', 'Siberia'],\n",
    "        'Siberia': ['Ural', 'Kamchatka', 'Mongolia', 'China', 'Irkutsk'],\n",
    "        'Kamchatka': ['Alaska', 'Siberia', 'Mongolia', 'Japan'],\n",
    "        'Mongolia': ['China', 'Siberia', 'Kamchatka'],\n",
    "        'China': ['Mongolia', 'Siberia', 'India', 'Irkutsk', 'Japan'],\n",
    "        'Japan': ['Kamchatka', 'China'],\n",
    "        'India': ['China', 'Southeast Asia', 'Middle East'],\n",
    "        'Middle East': ['Egypt', 'India', 'China', 'Southern Europe'],\n",
    "        'Irkutsk': ['Siberia', 'China'],\n",
    "        'Southeast Asia': ['China', 'India', 'Indonesia'],\n",
    "        'Indonesia': ['Southeast Asia', 'New Guinea'],\n",
    "        'New Guinea': ['Indonesia']\n",
    "    },\n",
    "    'Australia': {\n",
    "        'Australia': ['Indonesia', 'New Guinea'],\n",
    "        'New Guinea': ['Australia', 'Indonesia']\n",
    "    }\n",
    "}\n"
   ]
  },
  {
   "cell_type": "markdown",
   "metadata": {},
   "source": [
    "### Graph Creation\n",
    "\n",
    "&#9989; **Question 3.2 (7 points)**: Create a NetworkX graph object from the territory definitions. The territories are the nodes of the graph. Implement a function that builds the graph and adds appropriate attributes for continents. _Hint:_ Look up the documentation of `add_node`, what are the possible inputs? Don't forget to connect each territory to its neighbors. Make sure to add plenty of comments in your code."
   ]
  },
  {
   "cell_type": "code",
   "execution_count": 6,
   "metadata": {},
   "outputs": [
    {
     "name": "stdout",
     "output_type": "stream",
     "text": [
      "Nodes of the graph: [('Alaska', {'continent': 'North America'}), ('Northwest Territory', {'continent': 'North America'}), ('Alberta', {'continent': 'North America'}), ('Kamchatka', {'continent': 'Asia'}), ('Greenland', {'continent': 'Europe'}), ('Ontario', {'continent': 'North America'}), ('Quebec', {'continent': 'North America'}), ('Iceland', {'continent': 'Europe'}), ('Western United States', {'continent': 'North America'}), ('Eastern United States', {'continent': 'North America'}), ('Central America', {'continent': 'North America'}), ('Venezuela', {'continent': 'South America'}), ('Brazil', {'continent': 'South America'}), ('Peru', {'continent': 'South America'}), ('Argentina', {'continent': 'South America'}), ('Western Europe', {'continent': 'Europe'}), ('Africa', {}), ('Scandinavia', {'continent': 'Europe'}), ('Ukraine', {'continent': 'Europe'}), ('Northern Europe', {'continent': 'Europe'}), ('Germany', {'continent': 'Europe'}), ('Great Britain', {'continent': 'Europe'}), ('Poland', {'continent': 'Europe'}), ('Southern Europe', {'continent': 'Europe'}), ('Italy', {'continent': 'Europe'}), ('North Africa', {'continent': 'Africa'}), ('Egypt', {'continent': 'Africa'}), ('East Africa', {'continent': 'Africa'}), ('Middle East', {'continent': 'Asia'}), ('South Africa', {'continent': 'Africa'}), ('Madagascar', {'continent': 'Africa'}), ('West Africa', {'continent': 'Africa'}), ('Central Africa', {'continent': 'Africa'}), ('Ural', {'continent': 'Asia'}), ('Siberia', {'continent': 'Asia'}), ('Mongolia', {'continent': 'Asia'}), ('China', {'continent': 'Asia'}), ('Irkutsk', {'continent': 'Asia'}), ('Japan', {'continent': 'Asia'}), ('India', {'continent': 'Asia'}), ('Southeast Asia', {'continent': 'Asia'}), ('Indonesia', {'continent': 'Asia'}), ('New Guinea', {'continent': 'Australia'}), ('Australia', {'continent': 'Australia'})]\n",
      "Edges of the graph: [('Alaska', 'Northwest Territory'), ('Alaska', 'Alberta'), ('Alaska', 'Kamchatka'), ('Northwest Territory', 'Alberta'), ('Northwest Territory', 'Greenland'), ('Northwest Territory', 'Ontario'), ('Alberta', 'Ontario'), ('Alberta', 'Western United States'), ('Kamchatka', 'Siberia'), ('Kamchatka', 'Mongolia'), ('Kamchatka', 'Japan'), ('Greenland', 'Ontario'), ('Greenland', 'Quebec'), ('Greenland', 'Iceland'), ('Greenland', 'Scandinavia'), ('Greenland', 'Western Europe'), ('Ontario', 'Quebec'), ('Ontario', 'Western United States'), ('Ontario', 'Eastern United States'), ('Quebec', 'Eastern United States'), ('Iceland', 'Scandinavia'), ('Western United States', 'Eastern United States'), ('Western United States', 'Central America'), ('Eastern United States', 'Central America'), ('Central America', 'Venezuela'), ('Venezuela', 'Brazil'), ('Venezuela', 'Peru'), ('Brazil', 'Peru'), ('Brazil', 'Argentina'), ('Brazil', 'Western Europe'), ('Brazil', 'Africa'), ('Peru', 'Argentina'), ('Western Europe', 'Germany'), ('Western Europe', 'Poland'), ('Western Europe', 'Southern Europe'), ('Western Europe', 'Italy'), ('Western Europe', 'Great Britain'), ('Western Europe', 'North Africa'), ('Scandinavia', 'Ukraine'), ('Scandinavia', 'Northern Europe'), ('Scandinavia', 'Ural'), ('Ukraine', 'Northern Europe'), ('Ukraine', 'Germany'), ('Ukraine', 'Poland'), ('Ukraine', 'Southern Europe'), ('Northern Europe', 'Germany'), ('Northern Europe', 'Great Britain'), ('Germany', 'Southern Europe'), ('Germany', 'Poland'), ('Poland', 'Southern Europe'), ('Southern Europe', 'Italy'), ('Southern Europe', 'North Africa'), ('Southern Europe', 'Middle East'), ('North Africa', 'Egypt'), ('North Africa', 'East Africa'), ('North Africa', 'West Africa'), ('Egypt', 'East Africa'), ('Egypt', 'Middle East'), ('East Africa', 'South Africa'), ('East Africa', 'Madagascar'), ('East Africa', 'West Africa'), ('East Africa', 'Central Africa'), ('Middle East', 'India'), ('Middle East', 'China'), ('South Africa', 'Madagascar'), ('South Africa', 'Central Africa'), ('West Africa', 'Central Africa'), ('Ural', 'Siberia'), ('Siberia', 'Mongolia'), ('Siberia', 'China'), ('Siberia', 'Irkutsk'), ('Mongolia', 'China'), ('China', 'India'), ('China', 'Irkutsk'), ('China', 'Japan'), ('China', 'Southeast Asia'), ('India', 'Southeast Asia'), ('Southeast Asia', 'Indonesia'), ('Indonesia', 'New Guinea'), ('Indonesia', 'Australia'), ('New Guinea', 'Australia')]\n"
     ]
    }
   ],
   "source": [
    "#i asked help from chatgpt to work through this code with the right comments\n",
    "\n",
    "import networkx as nx\n",
    "\n",
    "def create_risk_graph(territories):\n",
    "    \"\"\"\n",
    "    Create a NetworkX graph from the Risk territory definitions.\n",
    "    \n",
    "    Parameters:\n",
    "        territories (dict): Dictionary containing territory and connection information\n",
    "        \n",
    "    Returns:\n",
    "        G (nx.Graph): NetworkX graph representing the Risk board\n",
    "    \"\"\"\n",
    "    # Initializing new object\n",
    "    G = nx.Graph()\n",
    "    \n",
    "    # Iterating through each continent in the dictionary\n",
    "    for continent, continent_territories in territories.items():\n",
    "        # Iterating through each territory in the current continent\n",
    "        for territory, neighbors in continent_territories.items():\n",
    "            # Adding the territory as a node w continent as an attribute\n",
    "            G.add_node(territory, continent=continent)\n",
    "            \n",
    "            # Iterating through each neighboring territory\n",
    "            for neighbor in neighbors:\n",
    "                # Adding an edge between the current territory and its neighbor\n",
    "                G.add_edge(territory, neighbor)\n",
    "    \n",
    "    return G\n",
    "\n",
    "#  graph\n",
    "G = create_risk_graph(risk_territories)\n",
    "\n",
    "#printing the nodes and edges \n",
    "print(\"Nodes of the graph:\", G.nodes(data=True))\n",
    "print(\"Edges of the graph:\", G.edges())\n",
    "\n"
   ]
  },
  {
   "cell_type": "markdown",
   "metadata": {},
   "source": [
    "### Graph Visualization\n",
    "\n",
    "&#9989; **Question 3.3 (4 points)**: Create a visualization of the Risk board graph. You can use AI to help you with this. The function below should:\n",
    "\n",
    "- make a plot of the risk graph.\n",
    "- color nodes by continent\n",
    "- allow the user to choose a type of layout. _Hint:_ search networkx documentation for the possible layout. Min 5 layouts should be available.\n",
    "- print the name of each territory on the respective node\n",
    "- make a legend for the graph \n",
    "- have very descriptive comments \n",
    "- increase the size of each node from the default value  \n",
    "- increase the font size of label from the default value"
   ]
  },
  {
   "cell_type": "code",
   "execution_count": 2,
   "metadata": {},
   "outputs": [
    {
     "ename": "NameError",
     "evalue": "name 'G' is not defined",
     "output_type": "error",
     "traceback": [
      "\u001b[0;31m---------------------------------------------------------------------------\u001b[0m",
      "\u001b[0;31mNameError\u001b[0m                                 Traceback (most recent call last)",
      "Cell \u001b[0;32mIn[2], line 64\u001b[0m\n\u001b[1;32m     61\u001b[0m     plt\u001b[38;5;241m.\u001b[39maxis(\u001b[38;5;124m'\u001b[39m\u001b[38;5;124moff\u001b[39m\u001b[38;5;124m'\u001b[39m)\n\u001b[1;32m     62\u001b[0m     plt\u001b[38;5;241m.\u001b[39mshow()\n\u001b[0;32m---> 64\u001b[0m visualize_risk_graph(\u001b[43mG\u001b[49m)\n",
      "\u001b[0;31mNameError\u001b[0m: name 'G' is not defined"
     ]
    }
   ],
   "source": [
    "import networkx as nx\n",
    "import matplotlib.pyplot as plt\n",
    "\n",
    "def visualize_risk_graph(G):\n",
    "    \"\"\"\n",
    "    Create a visualization of the Risk board graph with continents colored differently.\n",
    "    \n",
    "    Parameters:\n",
    "        G (nx.Graph): NetworkX graph of the Risk board\n",
    "    \"\"\"\n",
    " \n",
    "    layouts = {\n",
    "        'spring': nx.spring_layout,\n",
    "        'circular': nx.circular_layout,\n",
    "        'kamada_kawai': nx.kamada_kawai_layout,\n",
    "        'spectral': nx.spectral_layout,\n",
    "        'random': nx.random_layout\n",
    "    }\n",
    "    \n",
    "   \n",
    "    print(\"Available layouts:\", list(layouts.keys()))\n",
    "    layout_choice = input(\"Choose a layout (default is 'spring'): \")\n",
    "    if layout_choice not in layouts:\n",
    "        layout_choice = 'spring'  # Default layout if user enters an invalid choice\n",
    "    \n",
    "   \n",
    "    pos = layouts[layout_choice](G)\n",
    "    \n",
    "\n",
    "    continent_colors = {\n",
    "        'North America': 'red',\n",
    "        'South America': 'orange',\n",
    "        'Europe': 'yellow',\n",
    "        'Africa': 'green',\n",
    "        'Asia': 'blue',\n",
    "        'Australia': 'purple'\n",
    "    }\n",
    "    \n",
    "    \n",
    "    node_colors = [continent_colors[G.nodes[node]['continent']] for node in G.nodes]\n",
    "    \n",
    "   \n",
    "    plt.figure(figsize=(12, 12))  # Increase figure size\n",
    "    \n",
    "\n",
    "    nx.draw_networkx_nodes(G, pos, node_color=node_colors, node_size=500)\n",
    "    nx.draw_networkx_edges(G, pos, alpha=0.5)\n",
    "    \n",
    "\n",
    "    nx.draw_networkx_labels(G, pos, font_size=10, font_weight='bold')\n",
    "    \n",
    "    \n",
    "    legend_labels = {continent: plt.Line2D([0], [0], marker='o', color='w', markerfacecolor=color, markersize=10)\n",
    "                     for continent, color in continent_colors.items()}\n",
    "    plt.legend(legend_labels.values(), legend_labels.keys(), loc=\"upper right\", fontsize=12)\n",
    "    \n",
    "    \n",
    "    plt.title('Risk Game Board - Territories by Continent', fontsize=16)\n",
    "    \n",
    "\n",
    "    plt.axis('off')\n",
    "    plt.show()\n",
    "\n",
    "visualize_risk_graph(G)\n",
    "\n"
   ]
  },
  {
   "cell_type": "markdown",
   "metadata": {},
   "source": [
    "&#9989; **Question 3.4 (26 points)**: Answer the following questions based on the Risk board graph visualization. Each answer should have a minimum of 1-2 sentences and snippet of the code that supports your answer. You must explain what each function in the code snippet does. \n",
    "\n",
    "All answers should be in the same markdown cell. \n",
    "\n",
    "The code snippet should be properly displayed using code markdown. \n",
    "\n",
    "1. Which layout type provides the best visualization of the continent-based clustering in the Risk board graph?\n",
    "    - Explain the rationale behind your choice of layout.\n",
    "2. Do a little research and explain what the Kamada-Kawai layout does? Make sure to cite your sources.\n",
    "3. Which part of the code is used to assign the color of each node based on its continent?\n",
    "4. How did you make the legend? Explain any non-obvious part of the code.\n",
    "5. What colormap did you choose for the continents and how did you import the colormap? \n",
    "6. How did you set the node size and font size in the visualization?\n",
    "7. How did you print the labels for the nodes? "
   ]
  },
  {
   "cell_type": "markdown",
   "metadata": {},
   "source": [
    "✎ 1.The Kamada-Kawai layout provides the best visualization of the continent-based clustering in the Risk board graph. It arranges nodes in such a way that it minimizes the energy in the graph's edge lengths, creating a more readable layout. It tends to pull related nodes closer together, which is useful for visualizing the different continents in Risk.\n",
    "\n",
    "2.The Kamada-Kawai layout minimizes the \"energy\" of the graph, defined by the squared differences between the desired and actual distances between nodes. Like said before, the goal is to place connected nodes closer to each other while keeping the graph's layout compact and readable . This layout is often used when the goal is to reveal clusters or groupings in a network. \n",
    "source- https://networkx.org/documentation/stable/reference/generated/networkx.drawing.layout.kamada_kawai_layout.html\n",
    "\n",
    "3.The part of the code that assigns the color of each node based on its continent is-\n",
    "\n",
    "continent_colors = {\n",
    "    'North America': 'red',\n",
    "    'South America': 'orange',\n",
    "    'Europe': 'yellow',\n",
    "    'Africa': 'green',\n",
    "    'Asia': 'blue',\n",
    "    'Australia': 'purple'\n",
    "}\n",
    "\n",
    "node_colors = [continent_colors[G.nodes[node]['continent']] for node in G.nodes]\n",
    "\n",
    "4.The legend is created using the plt.legend() function\n"
   ]
  },
  {
   "cell_type": "markdown",
   "metadata": {},
   "source": [
    "---\n",
    "## &#128721; STOP\n",
    "**Pause to commit your changes to your Git repository! (1 points)**\n",
    "\n",
    "Take a moment to save your notebook, commit the changes to your Git repository using the commit message \"**Committing Part 3**\", no need to push the changes to GitHub yet, but you can if you want."
   ]
  },
  {
   "cell_type": "markdown",
   "metadata": {},
   "source": [
    "---\n",
    "## Assignment wrap-up\n",
    "\n",
    "Please fill out the form that appears when you run the code below.  **You must completely fill this out in order to receive credit for the assignment!**"
   ]
  },
  {
   "cell_type": "code",
   "execution_count": 6,
   "metadata": {},
   "outputs": [
    {
     "data": {
      "text/html": [
       "\n",
       "<iframe \n",
       "\tsrc=\"https://forms.office.com/r/mB0YjLYvAA\" \n",
       "\twidth=\"800px\" \n",
       "\theight=\"600px\" \n",
       "\tframeborder=\"0\" \n",
       "\tmarginheight=\"0\" \n",
       "\tmarginwidth=\"0\">\n",
       "\tLoading...\n",
       "</iframe>\n"
      ],
      "text/plain": [
       "<IPython.core.display.HTML object>"
      ]
     },
     "execution_count": 6,
     "metadata": {},
     "output_type": "execute_result"
    }
   ],
   "source": [
    "from IPython.display import HTML\n",
    "HTML(\n",
    "\"\"\"\n",
    "<iframe \n",
    "\tsrc=\"https://forms.office.com/r/mB0YjLYvAA\" \n",
    "\twidth=\"800px\" \n",
    "\theight=\"600px\" \n",
    "\tframeborder=\"0\" \n",
    "\tmarginheight=\"0\" \n",
    "\tmarginwidth=\"0\">\n",
    "\tLoading...\n",
    "</iframe>\n",
    "\"\"\"\n",
    ")"
   ]
  },
  {
   "cell_type": "markdown",
   "metadata": {},
   "source": [
    "### Congratulations, you're done!\n",
    "\n",
    "If you like, you can upload this file to D2L for a record. Nevertheless, **we will grade the copy on GitHub**. \n"
   ]
  },
  {
   "cell_type": "markdown",
   "metadata": {},
   "source": [
    "&#169; Copyright 2025,  Department of Computational Mathematics, Science and Engineering at Michigan State University"
   ]
  }
 ],
 "metadata": {
  "kernelspec": {
   "display_name": "Python 3.11 (default)",
   "language": "python",
   "name": "python3"
  },
  "language_info": {
   "codemirror_mode": {
    "name": "ipython",
    "version": 3
   },
   "file_extension": ".py",
   "mimetype": "text/x-python",
   "name": "python",
   "nbconvert_exporter": "python",
   "pygments_lexer": "ipython3",
   "version": "3.11.11"
  }
 },
 "nbformat": 4,
 "nbformat_minor": 4
}
