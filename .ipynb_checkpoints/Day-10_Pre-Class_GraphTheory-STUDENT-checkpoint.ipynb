{
 "cells": [
  {
   "cell_type": "markdown",
   "metadata": {
    "pycharm": {
     "name": "#%% md\n"
    },
    "slideshow": {
     "slide_type": "-"
    }
   },
   "source": [
    "# Pre-Class Assignment: Conflicts in Git and Graph Theory\n",
    "# Day 10 \n",
    "# CMSE 202\n",
    "<img src=\"https://cdn-images-1.medium.com/max/800/1*Q9n58avTamrRmY66Ne0Hug.png\" width=\"400px\">"
   ]
  },
  {
   "cell_type": "markdown",
   "metadata": {
    "pycharm": {
     "name": "#%% md\n"
    },
    "slideshow": {
     "slide_type": "-"
    }
   },
   "source": [
    "### <p style=\"text-align: right;\"> &#9989; Put your name here </p>\n"
   ]
  },
  {
   "cell_type": "markdown",
   "metadata": {
    "pycharm": {
     "name": "#%% md\n"
    },
    "slideshow": {
     "slide_type": "-"
    }
   },
   "source": [
    "## Goals for today's pre-class assignment \n",
    "\n",
    "</p>\n",
    "\n",
    "1. Exploring branching and merging in git\n",
    "1. Quick introduction to Graph Theory\n",
    "\n",
    "<a id=\"toc\"></a>\n",
    "\n",
    "## Table of contents\n",
    "\n",
    "- [Part 1: Exploring \"branches\" in Git](#part1)\n",
    "\n",
    "- [Part 2: Graph Theory intro](#part2)\n",
    "\n",
    "- [Part 3: Follow-up questions](#part3)\n",
    "\n",
    "- [Survey](#survey)"
   ]
  },
  {
   "cell_type": "markdown",
   "metadata": {
    "pycharm": {
     "name": "#%% md\n"
    }
   },
   "source": [
    "## Assignment instructions\n",
    "**This assignment is due by 11:59 p.m. the day before class** and should be uploaded into the appropriate \"Pre-class assignments\" submission folder in the Desire2Learn website. "
   ]
  },
  {
   "cell_type": "markdown",
   "metadata": {
    "pycharm": {
     "name": "#%% md\n"
    }
   },
   "source": [
    "---\n",
    "<a id=\"part1\"></a>\n",
    "[Back to ToC](#toc)\n",
    "\n",
    "## Part 1. Exploring the concept of \"branching\" and \"merging\" in Git\n",
    "\n",
    "At this point you've had the opportunity to work with git both in your pre-class and in-class assignments as well as needing to use it in your homework. When you're working on your own (like in the homework), it can be relatively easy to track your changes in your code, commit those changes, and push them to a remote git repository. However, when you're working with others (like in class) or when you're doing development that you're not sure you want to add/keep in your \"main\" code base, using git's \"branch\" feature can be a good option.\n",
    "\n",
    "**&#9989;  Do This:** Take a look at the following interactive tool for exploring how git works and how to manage git \"branches\", try working through the following interactive tutorial: [Learn Git Branching](https://learngitbranching.js.org/)\n",
    "\n",
    "**Start with the first level and then go through the first _three_ levels.** This will give you a bit of a quick refresher on making git `commit`s, creating git `branch`es, and performing git `merge`s. \n",
    "\n",
    "**Important notes about using this tool**: If you need to be reminded of the objective for a given level, type `objective`. If you make a mistake and want to start the level over, type `reset`.\n",
    "\n",
    "If you find this tool to be useful for thinking about how `git` works -- feel free to keep working through the levels! **When it comes time to work on your semester project with your group, using branches could be a really effective way to manage your code development!**"
   ]
  },
  {
   "cell_type": "markdown",
   "metadata": {
    "pycharm": {
     "name": "#%% md\n"
    }
   },
   "source": [
    "---\n",
    "<a id=\"part2\"></a>\n",
    "[Back to ToC](#toc)\n",
    "\n",
    "## Part 2. Very quick introduction to Graph Theory\n",
    "\n",
    "Now that's we've spent some time in the course learning some software tools (command line and version control), how to build Python classes, and revisiting our understanding of agent-based models, we're going to start moving on to new data analysis and modeling tools. The skills you've learned up to this point will continue to be weaved into the course and you should keep an eye out for the ways that object oriented programming plays a role in your work!\n",
    "\n",
    "Our first foray into new modeling/data analysis involves a exploration of **Graph Theory**.\n",
    "\n",
    "**&#9989;  Do This:** Watch the video below, which is literally a *very quick* introduction to graph theory.  You might need to watch it more than once to make sure you understand the concepts!"
   ]
  },
  {
   "cell_type": "code",
   "execution_count": null,
   "metadata": {
    "pycharm": {
     "name": "#%%\n"
    }
   },
   "outputs": [],
   "source": [
    "from IPython.display import YouTubeVideo\n",
    "YouTubeVideo(\"m-KUiibR4Xs\",width=800,height=450)"
   ]
  },
  {
   "cell_type": "markdown",
   "metadata": {
    "pycharm": {
     "name": "#%% md\n"
    }
   },
   "source": [
    "Hopefully that gave you a bit of a glimpse into what as \"graph\" is in this context, which might also sometimes just be referred to as a \"network\".\n",
    "\n",
    "**&#9989;  Do This:** Watch another short video that walks through the details a little slower and highlights some more examples of how a graph might be used to represent the real world."
   ]
  },
  {
   "cell_type": "code",
   "execution_count": null,
   "metadata": {
    "pycharm": {
     "name": "#%%\n"
    }
   },
   "outputs": [],
   "source": [
    "from IPython.display import YouTubeVideo\n",
    "YouTubeVideo(\"82zlRaRUsaY\",width=800,height=450)"
   ]
  },
  {
   "cell_type": "markdown",
   "metadata": {
    "pycharm": {
     "name": "#%% md\n"
    }
   },
   "source": [
    "&#9989; **Question 1:** Consider the following graph. How would you represent this graph in python?  Write some python code to represent this graph as either adjacency list (maybe using a [dictionary?](https://www.programiz.com/dsa/graph-adjacency-list)) or an adjacency matrix (maybe using [2D array?](https://numpy.org/devdocs/user/absolute_beginners.html#what-is-an-array)) \n",
    "\n",
    "**Hint**: revisit the end of the first video for some examples of how you might do this.\n",
    "\n",
    "\n",
    "<img src=\"http://www.algolist.net/img/graphs/graph-ir-1.png\">\n",
    "<p style=\"text-align: right;\">\n",
    "<a href=\"http://www.algolist.net/\">Image from: http://www.algolist.net/</p></a>\n"
   ]
  },
  {
   "cell_type": "code",
   "execution_count": null,
   "metadata": {
    "pycharm": {
     "name": "#%%\n"
    }
   },
   "outputs": [],
   "source": [
    "# Do This - Erase the contents of this cell and replace it with your answer to the above question!  \n",
    "#(double-click on this text to edit this cell, and hit shift+enter to save the text)\n"
   ]
  },
  {
   "cell_type": "markdown",
   "metadata": {
    "pycharm": {
     "name": "#%% md\n"
    }
   },
   "source": [
    "&#9989; **Question 2:** Now consider the following graph. Describe how you would change your format to account for directed edges.  How about labels that are not numbers? For this situation, you might prefer an adjacency list over an adjacency matrix, or vice versa. Feel free to include an example in python (not required). \n",
    "\n",
    "<!--\n",
    "<img src=\"http://www.cs.amherst.edu/ccm/cs31/augraph.jpg\">\n",
    "<p style=\"text-align: right;\">\n",
    "<a href=\"http://www.cs.amherst.edu/ccm/cs31\">Image from: http://www.cs.amherst.edu/ccm/cs3</p></a>\n",
    "-->\n",
    "\n",
    "\n",
    "<a href=\"https://ibb.co/Fbp8s5yq\"><img src=\"https://i.ibb.co/mCphv92F/Example-of-an-Audio-Unit-graph-AI11c.png\" alt=\"Example-of-an-Audio-Unit-graph-AI11c\" border=\"0\" width=\"500px\"></a> \n",
    "\n",
    "Source: Analysis of audio synthesis possibilities on mobile devices using the Apple iPhone and iPad *by Markus Konrad (2011)*</p>"
   ]
  },
  {
   "cell_type": "markdown",
   "metadata": {
    "pycharm": {
     "name": "#%% md\n"
    }
   },
   "source": [
    "<font size=+3>&#9998;</font> Do This - Erase the contents of this cell and replace it with your answer to the above question!  (double-click on this text to edit this cell, and hit shift+enter to save the text)"
   ]
  },
  {
   "cell_type": "markdown",
   "metadata": {
    "pycharm": {
     "name": "#%% md\n"
    }
   },
   "source": [
    "**Find this stuff interesting?** If you want to learn more about graph theory here is a great set of videos by Dr. Sarada Herke. They are longer videos and are not required for the course, but if this is something you'd like to learn more about, I encourage you to check them out.\n",
    "\n",
    "https://www.youtube.com/user/DrSaradaHerke"
   ]
  },
  {
   "cell_type": "markdown",
   "metadata": {
    "pycharm": {
     "name": "#%% md\n"
    }
   },
   "source": [
    "---\n",
    "<a id=\"part3\"></a>\n",
    "[Back to ToC](#toc)\n",
    "\n",
    "## Part 3: Follow-up Questions\n",
    "\n",
    "Copy and paste the following questions into the appropriate box in the assignment survey include below and answer them there. (Note: You'll have to fill out the assignment number and go to the \"NEXT\" section of the survey to paste in these questions.)\n",
    "\n",
    "1. Provide **three** real-world examples that you think could be well-represented using a graph-theory-based graph/network. Explain what the nodes/vertices and edges would represent in each case.\n"
   ]
  },
  {
   "cell_type": "markdown",
   "metadata": {
    "pycharm": {
     "name": "#%% md\n"
    }
   },
   "source": [
    "---\n",
    "<a id=\"survey\"></a>\n",
    "[Back to ToC](#toc)\n",
    "\n",
    "## Assignment wrap-up\n",
    "\n",
    "Please fill out the form that appears when you run the code below.  **You must completely fill this out in order to receive credit for the assignment!**"
   ]
  },
  {
   "cell_type": "code",
   "execution_count": null,
   "metadata": {
    "pycharm": {
     "name": "#%%\n"
    }
   },
   "outputs": [],
   "source": [
    "from IPython.display import HTML\n",
    "HTML(\n",
    "\"\"\"\n",
    "<iframe \n",
    "\tsrc=\"https://cmse.msu.edu/cmse202-pc-survey\" \n",
    "\twidth=\"800px\" \n",
    "\theight=\"600px\" \n",
    "\tframeborder=\"0\" \n",
    "\tmarginheight=\"0\" \n",
    "\tmarginwidth=\"0\">\n",
    "\tLoading...\n",
    "</iframe>\n",
    "\"\"\"\n",
    ")"
   ]
  },
  {
   "cell_type": "markdown",
   "metadata": {
    "pycharm": {
     "name": "#%% md\n"
    }
   },
   "source": [
    "---------\n",
    "### Congratulations, you're done with your pre-class assignment!\n",
    "\n",
    "Now, you just need to submit this assignment by uploading it to the course <a href=\"https://d2l.msu.edu/\">Desire2Learn</a> web page for today's submission folder. (Don't forget to add your name in the first cell.)"
   ]
  },
  {
   "cell_type": "markdown",
   "metadata": {
    "pycharm": {
     "name": "#%% md\n"
    }
   },
   "source": [
    "&#169; Copyright 2025,  Department of Computational Mathematics, Science and Engineering at Michigan State University"
   ]
  }
 ],
 "metadata": {
  "anaconda-cloud": {},
  "kernelspec": {
   "display_name": "Python [conda env:base] *",
   "language": "python",
   "name": "conda-base-py"
  },
  "language_info": {
   "codemirror_mode": {
    "name": "ipython",
    "version": 3
   },
   "file_extension": ".py",
   "mimetype": "text/x-python",
   "name": "python",
   "nbconvert_exporter": "python",
   "pygments_lexer": "ipython3",
   "version": "3.12.2"
  },
  "widgets": {
   "application/vnd.jupyter.widget-state+json": {
    "state": {},
    "version_major": 2,
    "version_minor": 0
   }
  }
 },
 "nbformat": 4,
 "nbformat_minor": 4
}
