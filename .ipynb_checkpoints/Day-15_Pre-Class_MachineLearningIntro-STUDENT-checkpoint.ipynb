{
 "cells": [
  {
   "cell_type": "markdown",
   "metadata": {},
   "source": [
    "# Pre-class Assignment: Intro to Machine Learning \n",
    "# Day 15\n",
    "# CMSE 202"
   ]
  },
  {
   "cell_type": "markdown",
   "metadata": {},
   "source": [
    "## <p style=\"text-align: right;\"> &#9989; Put your name here</p>\n"
   ]
  },
  {
   "cell_type": "markdown",
   "metadata": {},
   "source": [
    "## Goals for today's pre-class assignment\n",
    "\n",
    "</p>\n",
    "\n",
    "1. Define machine learning and describe the seven steps used to build machine learning models of data.\n",
    "2. Explain what a classification problem is, and the concepts of false positives and false negatives.\n",
    "3. Make a data set that could be used for classification and plot the data\n",
    "\n",
    "## Assignment instructions\n",
    "\n",
    "**This assignment is due by 11:59 p.m. the day before class** and should be uploaded into the appropriate \"Pre-class assignments\" submission folder in the Desire2Learn website. "
   ]
  },
  {
   "cell_type": "markdown",
   "metadata": {},
   "source": [
    "## Imports"
   ]
  },
  {
   "cell_type": "code",
   "execution_count": null,
   "metadata": {},
   "outputs": [],
   "source": [
    "import matplotlib.pyplot as plt\n",
    "from sklearn.datasets import make_classification"
   ]
  },
  {
   "cell_type": "markdown",
   "metadata": {},
   "source": [
    "---\n",
    "## 1. A quick introduction to machine learning\n",
    "\n",
    "In this assignment, we'll begin our dive into \"Machine Learning\" (ML). You may have heard the term thrown about before, but might not entirely understand what it is or how it is used.\n",
    "\n",
    "The two videos included below should give you a basic understanding for what machine learning is and how it is used.\n",
    "\n",
    "**Watch the videos and answer the questions.**"
   ]
  },
  {
   "cell_type": "code",
   "execution_count": null,
   "metadata": {},
   "outputs": [],
   "source": [
    "from IPython.display import YouTubeVideo\n",
    "YouTubeVideo(\"HcqpanDadyQ\",width=640,height=360)"
   ]
  },
  {
   "cell_type": "markdown",
   "metadata": {},
   "source": [
    "&#9989; **Question 1 :** List three examples of machine learning in our world today."
   ]
  },
  {
   "cell_type": "markdown",
   "metadata": {},
   "source": [
    "<font size=+3>&#9998;</font> Do This - Erase the contents of this cell and replace it with your answer to the above question!  (double-click on this text to edit this cell, and hit shift+enter to save the text)"
   ]
  },
  {
   "cell_type": "markdown",
   "metadata": {},
   "source": [
    "&#9989; **Question 2:** According to video, what is the definition of machine learning?"
   ]
  },
  {
   "cell_type": "markdown",
   "metadata": {},
   "source": [
    "<font size=+3>&#9998;</font> Do This - Erase the contents of this cell and replace it with your answer to the above question!  (double-click on this text to edit this cell, and hit shift+enter to save the text)"
   ]
  },
  {
   "cell_type": "code",
   "execution_count": null,
   "metadata": {},
   "outputs": [],
   "source": [
    "from IPython.display import YouTubeVideo\n",
    "YouTubeVideo(\"nKW8Ndu7Mjw\",width=640,height=360)"
   ]
  },
  {
   "cell_type": "markdown",
   "metadata": {},
   "source": [
    "&#9989; **Question 3:** Why might it be important to seperate the testing data from the training data ?"
   ]
  },
  {
   "cell_type": "markdown",
   "metadata": {},
   "source": [
    "<font size=+3>&#9998;</font> Do This - Erase the contents of this cell and replace it with your answer to the above question!  (double-click on this text to edit this cell, and hit shift+enter to save the text)"
   ]
  },
  {
   "cell_type": "markdown",
   "metadata": {},
   "source": [
    "&#9989; **Question 4:** Why is it important to prepare data before putting it in to a model?"
   ]
  },
  {
   "cell_type": "markdown",
   "metadata": {},
   "source": [
    "<font size=+3>&#9998;</font> Do This - Erase the contents of this cell and replace it with your answer to the above question!  (double-click on this text to edit this cell, and hit shift+enter to save the text)"
   ]
  },
  {
   "cell_type": "markdown",
   "metadata": {},
   "source": [
    "&#9989; **Question 5**: The video is about the \"7 Steps of Machine Learning\". Those steps are reproduced below. **In your own words, try to explain what each of those steps involve with a sentence or two.**"
   ]
  },
  {
   "cell_type": "markdown",
   "metadata": {},
   "source": [
    "<font size=+3>&#9998;</font> Do This - Fill out the 7 Steps of Machine Learning:\n",
    "\n",
    "1. Gathering data involves...\n",
    "2. Preparing that Data involves...\n",
    "3. Choosing a Model involves...\n",
    "4. Training involves...\n",
    "5. Evaluation involves...\n",
    "6. Hyperparameter Tuning involves...\n",
    "7. Prediction involves..."
   ]
  },
  {
   "cell_type": "markdown",
   "metadata": {},
   "source": [
    "---\n",
    "## 2. Various kinds of machine learning\n",
    "\n",
    "There are lots of different kinds of machine learning out there. You might only associate ML with the kind of deep neural networks you see discussed by Google. But there are many kinds. Look at the image below:"
   ]
  },
  {
   "cell_type": "markdown",
   "metadata": {},
   "source": [
    "<img src=\"https://drive.google.com/uc?id=1f-1hXjQwMaVaZ5dGQzJFsBDMo-QnPu-Z\">"
   ]
  },
  {
   "cell_type": "markdown",
   "metadata": {},
   "source": [
    "See anything that looks familiar? Regression is a whole category and OLS is one kind of machine learning. The diagram above is based on algorithmic approaches but here is another based on the process:"
   ]
  },
  {
   "cell_type": "markdown",
   "metadata": {},
   "source": [
    "<img src=\"https://drive.google.com/uc?id=1gi6AKhfpA2XW9InP4iQ34lqJRGu7D8rb\" width=800>"
   ]
  },
  {
   "cell_type": "markdown",
   "metadata": {},
   "source": [
    "&#9989; **Do this:** Watch the following video that provides an overview about \"Regression\" and \"Classification\" in the context of Machine Learning while also highlighted the differences between supervised and unsupervised machine learning."
   ]
  },
  {
   "cell_type": "code",
   "execution_count": null,
   "metadata": {},
   "outputs": [],
   "source": [
    "from IPython.display import YouTubeVideo\n",
    "YouTubeVideo(\"TJveOYsK6MY\",width=640,height=360)"
   ]
  },
  {
   "cell_type": "markdown",
   "metadata": {},
   "source": [
    "&#9989; **Question 6:** Look up the terms \"Supervised\", \"Unsupervised\" and \"Reinforcement\" Learning. Provide a brief definition of each below. You could of course copy definitions from somewhere, but do your best to see if can put them in your own words."
   ]
  },
  {
   "cell_type": "markdown",
   "metadata": {},
   "source": [
    "<font size=+3>&#9998;</font> Supervised learning is:"
   ]
  },
  {
   "cell_type": "markdown",
   "metadata": {},
   "source": [
    "<font size=+3>&#9998;</font> Unsupervised learning is:"
   ]
  },
  {
   "cell_type": "markdown",
   "metadata": {},
   "source": [
    "<font size=+3>&#9998;</font> Reinforcement learning is:"
   ]
  },
  {
   "cell_type": "markdown",
   "metadata": {},
   "source": [
    "---\n",
    "## 3. Classification\n",
    "\n",
    "Classification represents a group of algorithms that map observations (features) into class labels. We've seen examples of classification before. The Iris data set is an example of mapping a set of observations, 4 features per observation, into one of three class labels, in particular Iris **type**. It's easy to imagine many applications and there are multiple algorithms focus on the classification task.\n",
    "\n",
    "Classification is a **supervised** learning task. One of the principal concerns we have for a classifier is how often it makes mistakes (i.e., false positives and false negatives relative to its true predictions)\n",
    "\n",
    "&#9989; **Do this:** Watch the following video for an overview of what is meant by a \"false positive\" or \"false negative\"."
   ]
  },
  {
   "cell_type": "code",
   "execution_count": null,
   "metadata": {},
   "outputs": [],
   "source": [
    "from IPython.display import YouTubeVideo\n",
    "YouTubeVideo(\"Ivc8c9ijWIQ\",width=640,height=360)"
   ]
  },
  {
   "cell_type": "markdown",
   "metadata": {},
   "source": [
    "&#9989; **Question 7:** After watching this video explain in your own words the concepts of false positives and false negatives. Feel free to use your own examples."
   ]
  },
  {
   "cell_type": "markdown",
   "metadata": {},
   "source": [
    "<font size=+3>&#9998;</font> Do This - Erase the contents of this cell and replace it with your answer to the above question!  (double-click on this text to edit this cell, and hit shift+enter to save the text)"
   ]
  },
  {
   "cell_type": "markdown",
   "metadata": {},
   "source": [
    "### 3.1 Making some data\n",
    "\n",
    "We spend a lot of time reading in data but sometimes it is easier to generate some data, under our control, and see what we get. To get a better handle on how easy/hard classification might be, we can use the function `make_classification`\n",
    "\n",
    "This function is part of the `sklearn` library, which is the standard for machine learning in python, much like `pandas` is the standard for data handling. We have used `statsmodels` in the past, mostly for its improved statistical properties, but `sklearn` is a big, broad, and well maintained library. We will use it in future assignments and you will likely encounter it in any future data science endeavours.\n",
    "\n",
    "Take a look at the <a href=\"https://scikit-learn.org/stable/modules/generated/sklearn.datasets.make_classification.html\"> make-classification </a> documentation. It has a lot of parts but most are fairly clear:\n",
    "\n",
    "- how many samples\n",
    "- how many features\n",
    "- how many of those features are:\n",
    "    - informative\n",
    "    - redundant (basically random noise)\n",
    "    - repeated (some combo of informative and redundant)\n",
    "- number of classes (how many labels)\n",
    "\n",
    "It returns two values: an array of shape(n_samples, n_features) and the integer labels (the class they belong to) for each sample.\n",
    "\n",
    "You can look at the rest of the arguments for the function and make intentional choices about what you want them to be or you can just use the defaults (at least for now).\n",
    "\n",
    "Let's start by making a scatter plot of a sample of data with 3 features including 1 that is redundant with only 1 cluster per class (i.e., 1 grouping per labeled class). Because we have 3 features, we should look at scatter plots of each pair of features. Note that we use `c=class_labels` to send `class_labels` to the color attribute, which colorizes different classes.\n",
    "\n",
    "&#9989; **Do this:** Review the following code and the resulting plots, **make sure you understand what the code is doing!** You might want to run the cell a few times to see how the answers chance this the `make_classification` function relies on a random number generator."
   ]
  },
  {
   "cell_type": "code",
   "execution_count": null,
   "metadata": {},
   "outputs": [],
   "source": [
    "features, class_labels = make_classification(n_features = 3, n_redundant = 1, n_clusters_per_class=1)\n",
    "\n",
    "f, axs = plt.subplots(3,1,figsize=(12,12))\n",
    "plt.subplot(311)\n",
    "plt.scatter(features[:, 0], features[:, 1], marker = 'o', c = class_labels, ec = 'k')\n",
    "plt.xlabel('feature 0')\n",
    "plt.ylabel('feature 1')\n",
    "\n",
    "plt.subplot(312)\n",
    "plt.scatter(features[:, 1], features[:, 2], marker = 'o', c = class_labels, ec = 'k')\n",
    "plt.xlabel('feature 1')\n",
    "plt.ylabel('feature 2')\n",
    "\n",
    "plt.subplot(313)\n",
    "plt.scatter(features[:, 0], features[:, 2], marker = 'o', c = class_labels, ec = 'k')\n",
    "plt.xlabel('feature 0')\n",
    "plt.ylabel('feature 2')"
   ]
  },
  {
   "cell_type": "markdown",
   "metadata": {},
   "source": [
    "&#9989; **Question 8:** Given your plots (you might run the code a few times) and the sklearn documentation, what does a \"redundant feature\" appear to be?"
   ]
  },
  {
   "cell_type": "markdown",
   "metadata": {},
   "source": [
    "<font size=+3>&#9998;</font> Do This - Erase the contents of this cell and replace it with your answer to the above question!  (double-click on this text to edit this cell, and hit shift+enter to save the text)"
   ]
  },
  {
   "cell_type": "markdown",
   "metadata": {},
   "source": [
    "### 3.2 Plot some examples\n",
    "\n",
    "Some data are easier to classify than others. You might remember this from the work we did with the iris data set earlier in the semester. As a reminder, we include a plot of the iris data set below along with the classfication of each sample.\n",
    "\n",
    "<img src=\"https://upload.wikimedia.org/wikipedia/commons/thumb/5/56/Iris_dataset_scatterplot.svg/768px-Iris_dataset_scatterplot.svg.png\"/>\n",
    "\n",
    "Let's plot some examples of made-up data to explore in what way we might find it easier or difficult to classify that data. Try generating the following:\n",
    "\n",
    "- 100 samples (that's the default), 2 features, no redundant features, one informative feature, one cluster per class\n",
    "- 100 samples (that's the default), 2 features, no redundant features, **two** informative features, one cluster per class\n",
    "- 100 samples (that's the default), 4 features, **two**  redundant features, **two** informative features, one cluster per class\n",
    "- 100 samples (that's the default), 4 features, **two**  redundant features, **two** informative features, **two** clusters per class\n",
    "\n",
    "Make a scatter plot of these data. For the data with 4 features, you might want to look at different pairs of features before answering the question below."
   ]
  },
  {
   "cell_type": "code",
   "execution_count": null,
   "metadata": {},
   "outputs": [],
   "source": [
    "# your code here"
   ]
  },
  {
   "cell_type": "markdown",
   "metadata": {},
   "source": [
    "&#9989; **Question 9:** Given the plots here (again, you may need to visualize the results a few different times to see how things change), which of these would be easiest to classify? Why? You might think back to the iris data set if it helps."
   ]
  },
  {
   "cell_type": "markdown",
   "metadata": {},
   "source": [
    "<font size=+3>&#9998;</font> Do This - Erase the contents of this cell and replace it with your answer to the above question!  (double-click on this text to edit this cell, and hit shift+enter to save the text)"
   ]
  },
  {
   "cell_type": "markdown",
   "metadata": {},
   "source": [
    "---\n",
    "## 4. Getting Started with Classification: Logistic Regression\n",
    "\n",
    "There are variety of classifiers out there, we will explore some of them in this class. Since we've already spent some time thinking about regression in class, we will start with one of the most widely used classifiers: Logistic Regression. The video below provides a conceptual explanation of the technique."
   ]
  },
  {
   "cell_type": "code",
   "execution_count": null,
   "metadata": {},
   "outputs": [],
   "source": [
    "from IPython.display import YouTubeVideo\n",
    "YouTubeVideo(\"yIYKR4sgzI8\",width=640,height=360)"
   ]
  },
  {
   "cell_type": "markdown",
   "metadata": {},
   "source": [
    "&#9989; **Question 10:** Think about a siutation where you might want to classify some set of things using logistic regression. What is that set? What are the classes? And what kinds of features would you use to build that model?"
   ]
  },
  {
   "cell_type": "markdown",
   "metadata": {},
   "source": [
    "<font size=+3>&#9998;</font> Do This - Erase the contents of this cell and replace it with your answer to the above question!  (double-click on this text to edit this cell, and hit shift+enter to save the text)"
   ]
  },
  {
   "cell_type": "markdown",
   "metadata": {},
   "source": [
    "---\n",
    "## Follow-up Questions\n",
    "\n",
    "Copy and paste the following questions into the appropriate box in the assignment survey include below and answer them there. (Note: You'll have to fill out the assignment number and go to the \"NEXT\" section of the survey to paste in these questions.)\n",
    "\n",
    "1. In your own words, provide a brief definition of supervised, unsupervised, and reinforcement learning. (you should be able to copy your answer to Question 6 from Part 2).\n",
    "\n",
    "2. What was your example for a situation where you might use logistic regression to classify something? (from Question 10 in Part 4)."
   ]
  },
  {
   "cell_type": "markdown",
   "metadata": {},
   "source": [
    "----\n",
    "\n",
    "## 5. Assignment wrap-up\n",
    "\n",
    "\n",
    "Please fill out the form that appears when you run the code below.  **You must completely fill this out in order to receive credit for the assignment!**"
   ]
  },
  {
   "cell_type": "code",
   "execution_count": null,
   "metadata": {},
   "outputs": [],
   "source": [
    "from IPython.display import HTML\n",
    "HTML(\n",
    "\"\"\"\n",
    "<iframe \n",
    "\tsrc=\"https://cmse.msu.edu/cmse202-pc-survey\" \n",
    "\twidth=\"800px\" \n",
    "\theight=\"600px\" \n",
    "\tframeborder=\"0\" \n",
    "\tmarginheight=\"0\" \n",
    "\tmarginwidth=\"0\">\n",
    "\tLoading...\n",
    "</iframe>\n",
    "\"\"\"\n",
    ")"
   ]
  },
  {
   "cell_type": "markdown",
   "metadata": {},
   "source": [
    "---------\n",
    "### Congratulations, you're done with your pre-class assignment!\n",
    "\n",
    "Now, you just need to submit this assignment by uploading it to the course <a href=\"https://d2l.msu.edu/\">Desire2Learn</a> web page for today's submission folder (Don't forget to add your names in the first cell)."
   ]
  },
  {
   "cell_type": "markdown",
   "metadata": {},
   "source": [
    "&#169; Copyright 2024,  Department of Computational Mathematics, Science and Engineering at Michigan State University\n",
    "\n",
    "<!-- 9/16/2024 -->"
   ]
  },
  {
   "cell_type": "markdown",
   "metadata": {},
   "source": []
  }
 ],
 "metadata": {
  "interpreter": {
   "hash": "31f2aee4e71d21fbe5cf8b01ff0e069b9275f58929596ceb00d14d90e3e16cd6"
  },
  "kernelspec": {
   "display_name": "Python 3 (ipykernel)",
   "language": "python",
   "name": "python3"
  },
  "language_info": {
   "codemirror_mode": {
    "name": "ipython",
    "version": 3
   },
   "file_extension": ".py",
   "mimetype": "text/x-python",
   "name": "python",
   "nbconvert_exporter": "python",
   "pygments_lexer": "ipython3",
   "version": "3.11.4"
  },
  "widgets": {
   "application/vnd.jupyter.widget-state+json": {
    "state": {},
    "version_major": 2,
    "version_minor": 0
   }
  }
 },
 "nbformat": 4,
 "nbformat_minor": 4
}
