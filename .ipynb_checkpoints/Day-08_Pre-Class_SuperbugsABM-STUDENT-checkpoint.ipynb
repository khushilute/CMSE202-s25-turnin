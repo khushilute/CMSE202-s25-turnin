{
 "cells": [
  {
   "attachments": {},
   "cell_type": "markdown",
   "metadata": {},
   "source": [
    "# Pre-Class Assignment: Agent-based Modeling of Superbugs\n",
    "# Day 8\n",
    "# CMSE 202\n",
    "\n",
    "<img src=\"https://pbs.twimg.com/profile_images/1119786377/BEACON_Logo_May_2010.png\" width=400>"
   ]
  },
  {
   "cell_type": "markdown",
   "metadata": {},
   "source": [
    "## <p style=\"text-align: right;\"> &#9989; Put your name here</p>"
   ]
  },
  {
   "cell_type": "markdown",
   "metadata": {},
   "source": [
    "## Goals for today's pre-class assignment\n",
    "\n",
    "</p>\n",
    "\n",
    "1. Learn a bit about Digital Evolution (MSU BEACON Lab)\n",
    "1. Learn about bacterial \"Superbugs\"\n",
    "\n",
    "\n",
    "## Assignment instructions\n",
    "**This assignment is due by 11:59 p.m. the day before class** and should be uploaded into the appropriate \"Pre-class assignments\" submission folder in the Desire2Learn website.\n"
   ]
  },
  {
   "cell_type": "markdown",
   "metadata": {},
   "source": [
    "----\n",
    "# 1. Digital Evolution\n",
    "&#9989; **Do this:** Watch this quick video about Digital Evolution being done here at MSU and answers the questions below. "
   ]
  },
  {
   "cell_type": "code",
   "execution_count": null,
   "metadata": {},
   "outputs": [],
   "source": [
    "from IPython.display import YouTubeVideo\n",
    "YouTubeVideo(\"FLaBghtu_os\",width=800,height=450)"
   ]
  },
  {
   "cell_type": "markdown",
   "metadata": {},
   "source": [
    "&#9989; **Question 1:** What are the \"genes\" that mutate and change in the digital organism described in this video?"
   ]
  },
  {
   "cell_type": "markdown",
   "metadata": {},
   "source": [
    "<font size=+3>&#9998;</font> Do This - Erase the contents of this cell and replace it with your answer to the above question!  (double-click on this text to edit this cell, and hit shift+enter to save the text)"
   ]
  },
  {
   "cell_type": "markdown",
   "metadata": {},
   "source": [
    "&#9989; **Question 2:** Briefly describe two evolution experiments described in this video."
   ]
  },
  {
   "cell_type": "markdown",
   "metadata": {},
   "source": [
    "<font size=+3>&#9998;</font> Do This - Erase the contents of this cell and replace it with your answer to the above question!  (double-click on this text to edit this cell, and hit shift+enter to save the text)"
   ]
  },
  {
   "cell_type": "markdown",
   "metadata": {},
   "source": [
    "&#9989; **Question 3:** What other experiments could you imagine performing using a digital evolution model?"
   ]
  },
  {
   "cell_type": "markdown",
   "metadata": {},
   "source": [
    "<font size=+3>&#9998;</font> Do This - Erase the contents of this cell and replace it with your answer to the above question!  (double-click on this text to edit this cell, and hit shift+enter to save the text)"
   ]
  },
  {
   "cell_type": "markdown",
   "metadata": {},
   "source": [
    "----\n",
    "# 2. Superbugs\n",
    "\n",
    "Armed with our newly developed skills to build Python classes and create new objects, we're going to think about how we might build an agent-based model to simulate the evolution of bacteria that become resistant to antibiotics. Hopefully you remember a bit about agent-based models from CMSE 201!   \n",
    "\n",
    "&#9989; **Do this:** Watch the following video. If you find the video stressful/terrifying, you're not alone, this is quite worrisome.\n",
    "\n",
    "Our eventual goal is to build a simulation that reconstructs this real world experiment using your Python skills and modeling knowledge. \n",
    "\n",
    "Here's an article that discusses this petri dish experiment of bacteria evolution: https://www.aaas.org/news/scientists-build-giant-petri-dish-film-bacteria-resistance"
   ]
  },
  {
   "cell_type": "code",
   "execution_count": null,
   "metadata": {},
   "outputs": [],
   "source": [
    "from IPython.display import YouTubeVideo\n",
    "YouTubeVideo(\"yybsSqcB7mE\",width=800,height=450)"
   ]
  },
  {
   "cell_type": "markdown",
   "metadata": {},
   "source": [
    "&#9989; **Question 4:** Think about how you might build a model using Python to recreate, explore, and test this laboratory experiment.  What datastructures would you need to simulate the world and track the bacteria as they evolve?  What classes and corresponding methods and attributes would you want/need?  Spend about 10-15 minutes outlining the code, psuedo-coding, or writing **stub functions**.\n",
    "\n",
    "> What do we mean by \"stub functions\"? Stub functions are when we go a step beyond outlining, describing, or writing pseudo and actually start to flesh out the structure that we want our code to have. We might quickly mock up a new Python class by creating the initial class and dropping in the functions we event want to have, but don't actually go through the process of implement the code we have planned. It might look something like this:\n",
    "\n",
    "``` python\n",
    "class Dog:\n",
    "    \n",
    "    def __init__(self):\n",
    "        pass\n",
    "    \n",
    "    def bark(self):\n",
    "        pass\n",
    "    \n",
    "    def fetch(self):\n",
    "        pass\n",
    "    \n",
    "    def chase_postal_worker(self):\n",
    "        pass\n",
    "```\n",
    "\n",
    "> The example above doesn't ***do*** anything but it does serve as a guide for all of the code I might want to write in my new class. I can use `pass` so that the code will \"run\" and not throw any syntax errors, but it won't actually do anything. I can then start working on my code one method at a time and build my class without forgetting about any of my plans. There's even folks [talking about the utility of stub functions on stack overflow](https://stackoverflow.com/questions/7620382/stubbing-out-functions-or-classes)\n",
    ">\n",
    "> This sort of code development style can be really useful when you're working as part of a collaboration as well because different people can be assigned to work on different parts when it comes time to implement your ideas!"
   ]
  },
  {
   "cell_type": "markdown",
   "metadata": {},
   "source": [
    "<font size=+3>&#9998;</font> Do This - Erase the contents of this cell and replace it with your answer to the above question!  (double-click on this text to edit this cell, and hit shift+enter to save the text)"
   ]
  },
  {
   "cell_type": "code",
   "execution_count": null,
   "metadata": {},
   "outputs": [],
   "source": [
    "# Put any useful/necessary stub functions here\n"
   ]
  },
  {
   "cell_type": "markdown",
   "metadata": {},
   "source": [
    "---\n",
    "## Follow-up Questions\n",
    "\n",
    "Copy and paste the following questions into the appropriate box in the assignment survey include below and answer them there. (Note: You'll have to fill out the assignment number and go to the \"NEXT\" section of the survey to paste in these questions.)\n",
    "\n",
    "1. In thinking back on what you learned about agent-based models in CMSE 201, do you think this type of modeling would be useful for modeling evolution? Why or why not?\n",
    "\n",
    "2. Think back on code you've written previously and provide one example of a coding exercise you've completed where it might have been useful to use the \"stub function\" approach to planning out your solution.\n"
   ]
  },
  {
   "cell_type": "markdown",
   "metadata": {},
   "source": [
    "----\n",
    "# Assignment wrap-up\n",
    "\n",
    "Please fill out the form that appears when you run the code below.  **You must completely fill this out in order to receive credit for the assignment!**"
   ]
  },
  {
   "cell_type": "code",
   "execution_count": null,
   "metadata": {},
   "outputs": [],
   "source": [
    "from IPython.display import HTML\n",
    "HTML(\n",
    "\"\"\"\n",
    "<iframe \n",
    "\tsrc=\"https://cmse.msu.edu/cmse202-pc-survey\" \n",
    "\twidth=\"800px\" \n",
    "\theight=\"600px\" \n",
    "\tframeborder=\"0\" \n",
    "\tmarginheight=\"0\" \n",
    "\tmarginwidth=\"0\">\n",
    "\tLoading...\n",
    "</iframe>\n",
    "\"\"\"\n",
    ")"
   ]
  },
  {
   "cell_type": "markdown",
   "metadata": {},
   "source": [
    "---------\n",
    "### Congratulations, you're done with your pre-class assignment!\n",
    "\n",
    "Now, you just need to submit this assignment by uploading it to the course <a href=\"https://d2l.msu.edu/\">Desire2Learn</a> web page for today's submission folder (Don't forget to add your name in the first cell)."
   ]
  },
  {
   "cell_type": "markdown",
   "metadata": {},
   "source": [
    "&#169; Copyright 2025, Department of Computational Mathematics, Science and Engineering at Michigan State University"
   ]
  }
 ],
 "metadata": {
  "anaconda-cloud": {},
  "kernelspec": {
   "display_name": "Python [conda env:base] *",
   "language": "python",
   "name": "conda-base-py"
  },
  "language_info": {
   "codemirror_mode": {
    "name": "ipython",
    "version": 3
   },
   "file_extension": ".py",
   "mimetype": "text/x-python",
   "name": "python",
   "nbconvert_exporter": "python",
   "pygments_lexer": "ipython3",
   "version": "3.12.2"
  },
  "vscode": {
   "interpreter": {
    "hash": "31f2aee4e71d21fbe5cf8b01ff0e069b9275f58929596ceb00d14d90e3e16cd6"
   }
  },
  "widgets": {
   "application/vnd.jupyter.widget-state+json": {
    "state": {},
    "version_major": 2,
    "version_minor": 0
   }
  }
 },
 "nbformat": 4,
 "nbformat_minor": 4
}
