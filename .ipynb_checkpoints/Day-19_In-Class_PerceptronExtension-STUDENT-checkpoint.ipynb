{
 "cells": [
  {
   "cell_type": "markdown",
   "id": "48015ee0-9b0e-4d33-ab06-842d8791012a",
   "metadata": {},
   "source": [
    "# In-Class Challenge Assignment: Experimenting with the Perceptron\n",
    "# Day 19 Extension\n",
    "# CMSE 202"
   ]
  },
  {
   "cell_type": "markdown",
   "id": "c87657ab-983d-4a2e-983d-4c3ef9847d08",
   "metadata": {},
   "source": [
    "## Now that you have a working Perceptron Classifier... let's experiment with it a bit!\n",
    "\n",
    "When building and testing your Perceptron Classifier you used a simplified version of the iris dataset that has been reduced to just two features and two class labels. \n",
    "\n",
    "### Will your Perceptron classifier work on a more complex dataset?\n",
    "\n",
    "Another widely used dataset for experimenting with binary classification is the [sonar dataset](https://archive.ics.uci.edu/ml/datasets/Connectionist+Bench+(Sonar,+Mines+vs.+Rocks)).\n",
    "\n",
    "A version of this dataset can be found here:\n",
    "\n",
    "`https://raw.githubusercontent.com/msu-cmse-courses/cmse202-supplemental-data/main/data/sonar.csv`\n",
    "\n",
    "Make sure you take a moment to read the [UC Irvine Machine Learning Repository page](https://archive.ics.uci.edu/ml/datasets/Connectionist+Bench+(Sonar,+Mines+vs.+Rocks)) to understand exactly what is in this dataset, but essentially is a collection of sonar measurements of rocks and \"mines\" (metal cynlinders). \n",
    "\n"
   ]
  },
  {
   "cell_type": "markdown",
   "id": "e10e2e8b-c372-4871-9862-5df2a65e9afa",
   "metadata": {},
   "source": [
    "---\n",
    "### Testing your new tool and exploring others\n",
    "\n",
    "With any time that you have left in class, see if you can accomplish the following:\n",
    "\n",
    "1. Load up the sonar dataset and change the class labels so that they can be used with the Perceptron classifier.\n",
    "\n",
    "2. Use the Perceptron classifier you built from scratch to see how well you can do at distinguishing rocks from mines. You may need to make some modifications to your code if you didn't build it to be flexible enough to accept an arbitary number of data deatures. Experiment with the learning rate and number of iterations to see how high of an accuracy you can get with your classifier.\n",
    "\n",
    "3. If you get your Perceptron classifier working, can you figure out how to use the Perceptron Classifier that is available in [scikit-learn](https://scikit-learn.org/stable/index.html)? You may need to do a bit of Google searching and exploration of the documentation to figure this out. How well does the scikit-learn version do compared to the one you built?\n",
    "\n",
    "<!--\n",
    "4. If you're feeling really ambitious, can you build a Perceptron classifier with [Tensorflow](https://www.tensorflow.org/)? Remember, the Perceptron is basically just a single-neuron single-layer neural network. This requires installation of Tensorflow and relevant APIs.\n",
    "-->\n",
    "\n",
    "4. The logistic regression model (Day 15) is also a multi-variable classifier. Use it on the same dataset. Compare the results of your perceptron classifier against that obtained from and discuss your observations."
   ]
  },
  {
   "cell_type": "markdown",
   "id": "9d82c234-ce27-4854-bbfc-96629f3f3028",
   "metadata": {},
   "source": [
    "---\n",
    "&#9989; **Do This**: Load up the sonar data."
   ]
  },
  {
   "cell_type": "code",
   "execution_count": null,
   "id": "b8d795f4",
   "metadata": {},
   "outputs": [],
   "source": [
    "# Put code here to start and generate new cells as needed.\n"
   ]
  },
  {
   "cell_type": "markdown",
   "id": "2a2a6ae6-4295-4455-baba-26a15b0ef359",
   "metadata": {},
   "source": [
    "Copy your percentron class to the cell below. **Note** sklearn has a **Perceptron** function. We should avoid using the same function name of your perceptron class."
   ]
  },
  {
   "cell_type": "code",
   "execution_count": null,
   "id": "ccdf7ae4-71bf-4357-8fad-50b29631c94f",
   "metadata": {},
   "outputs": [],
   "source": [
    "# put your code here\n"
   ]
  },
  {
   "cell_type": "markdown",
   "id": "ad23a7a6-c8fb-4f54-82bd-5c8afc031de4",
   "metadata": {},
   "source": [
    "Train your percentron class with sonar data. What's the accuracy?"
   ]
  },
  {
   "cell_type": "code",
   "execution_count": null,
   "id": "cad22774-8b2e-44ea-ac54-67a0a94bf570",
   "metadata": {},
   "outputs": [],
   "source": [
    "# put your code here\n"
   ]
  },
  {
   "cell_type": "markdown",
   "id": "853ceb7a-95db-49aa-81b6-ec094265ffdc",
   "metadata": {},
   "source": [
    "---\n",
    "&#9989; **Do This**: Use the **Perceptron** function from sklearn library to classify the same dataset in the cell below. Compare to your percentron classifier, how is the performance of the percetron in the sklearn library?"
   ]
  },
  {
   "cell_type": "code",
   "execution_count": null,
   "id": "88194cf3-de9b-42d6-bdbb-d3f4ab4957bd",
   "metadata": {},
   "outputs": [],
   "source": [
    "# put your code here\n"
   ]
  },
  {
   "cell_type": "markdown",
   "id": "5702ab39-642d-413f-97ed-23f705e15611",
   "metadata": {},
   "source": [
    "---\n",
    "&#9989; **Do This**: Use **logistic regress model** from statsmodel library to classify the same dataset in the cell below. \n",
    "\n",
    "* Note that the full sonar data set contains some values that will result in singular values in the logistic regression. Thus, we will use only the first 40 attritbutes (columns) in the sonar dataset. The class label is still the last column in the sonar dataset.\n",
    "* We will add constant to the model, which is equivalent to the bias weight.\n",
    "* The Logit function requires the labels to be 1 or 0. You'll need to replace '-1' in the labels to '0' for the Logit function.\n",
    "* Let's set test_size = 0.15 in the train-test split, and fit the model using the training set.\n",
    "* Predict the labels of the test set. How is the accuracy?"
   ]
  },
  {
   "cell_type": "code",
   "execution_count": null,
   "id": "65817556-9766-40ae-bcbb-96e12a04c778",
   "metadata": {},
   "outputs": [],
   "source": [
    "# put your code here\n"
   ]
  },
  {
   "cell_type": "markdown",
   "id": "38fe8700-a3da-42e1-9c24-8e57bcf2c632",
   "metadata": {},
   "source": [
    "Train your percentron class with the training set. \n",
    "* Don't forget that the labels in the sonar dataset is '-1'. You probably need to convert '0' in the train_labels and test_labels back to '-1'.\n",
    "* Use the features in the test set in your percetron prediction function to predict the labels. "
   ]
  },
  {
   "cell_type": "code",
   "execution_count": null,
   "id": "6817bb68-b9c9-4cfe-8ebf-0ae48b7c7fd5",
   "metadata": {},
   "outputs": [],
   "source": [
    "# put your code here\n"
   ]
  },
  {
   "cell_type": "markdown",
   "id": "c3e6b82f-88ad-4b05-a9cf-2f46d6f683b9",
   "metadata": {},
   "source": [
    "---\n",
    "&#9989; **Do This**: Give a short discussion of the comparison between the results from the different classifiers.\n"
   ]
  },
  {
   "cell_type": "markdown",
   "id": "f70602a9",
   "metadata": {},
   "source": [
    "-----\n",
    "### Congratulations, we're done!\n",
    "\n",
    "Now, you just need to submit this assignment by uploading it to the course <a href=\"https://d2l.msu.edu/\">Desire2Learn</a> web page for today's submission folder (Don't forget to add your names in the first cell).\n"
   ]
  },
  {
   "cell_type": "markdown",
   "id": "162c5e3b-c1eb-4be2-8da6-3027105e540c",
   "metadata": {},
   "source": [
    "&#169; Copyright 2025, The Department of Computational Mathematics, Science and Engineering; Michigan State University"
   ]
  }
 ],
 "metadata": {
  "kernelspec": {
   "display_name": "Python [conda env:base] *",
   "language": "python",
   "name": "conda-base-py"
  },
  "language_info": {
   "codemirror_mode": {
    "name": "ipython",
    "version": 3
   },
   "file_extension": ".py",
   "mimetype": "text/x-python",
   "name": "python",
   "nbconvert_exporter": "python",
   "pygments_lexer": "ipython3",
   "version": "3.12.2"
  }
 },
 "nbformat": 4,
 "nbformat_minor": 5
}
