{
 "cells": [
  {
   "cell_type": "markdown",
   "metadata": {},
   "source": [
    "# In-Class Assignment: Machine Learning; classification with logistic regression\n",
    "# Day 15\n",
    "# CMSE 202\n",
    "<img src=\"https://i.ibb.co/vv36b1d/supervised-workflow-machine-learning.png\" width=700px>\n",
    "\n",
    "\n",
    "### Agenda for today's class\n",
    "\n",
    "</p>\n",
    "\n",
    "1. [Review of Pre-Class assignment](#review)\n",
    "1. [Training vs Testing](#train-test)\n",
    "1. [Logistic Regression](#logit)"
   ]
  },
  {
   "cell_type": "code",
   "execution_count": null,
   "metadata": {},
   "outputs": [],
   "source": []
  },
  {
   "cell_type": "markdown",
   "metadata": {},
   "source": [
    "### <p style=\"text-align: right;\"> &#9989; **Khushi Lute** </p>\n",
    "#### <p style=\"text-align: right;\"> &#9989; Mary, jamie, Kate, Sam, Ryleigh</p>"
   ]
  },
  {
   "cell_type": "markdown",
   "metadata": {},
   "source": [
    "## Imports for the day"
   ]
  },
  {
   "cell_type": "code",
   "execution_count": 1,
   "metadata": {},
   "outputs": [],
   "source": [
    "import pandas as pd\n",
    "import matplotlib.pyplot as plt\n",
    "import numpy as np\n",
    "from sklearn.model_selection import train_test_split\n",
    "import statsmodels.api as sm\n",
    "from sklearn import metrics"
   ]
  },
  {
   "cell_type": "markdown",
   "metadata": {},
   "source": [
    "---\n",
    "<a id=\"review\"></a>\n",
    "## 1. Review of Pre-Class assignment\n",
    "\n",
    "We'll discussion any questions that came up as a class."
   ]
  },
  {
   "cell_type": "markdown",
   "metadata": {},
   "source": [
    "----\n",
    "<a id=\"train-test\"></a>\n",
    "## 2. Training vs Testing\n",
    "\n",
    "As you learned in the pre-class, classification is an ML process that maps features of an input data set to class labels. Classification is a **supervised** learning approach where example data is used to train the data. We typically divide the data used to train and evaluate the classifier (the result model) into three sets\n",
    "\n",
    "- training set\n",
    "- testing set\n",
    "- validation set"
   ]
  },
  {
   "cell_type": "markdown",
   "metadata": {},
   "source": [
    "&#9989; **Do This:** As a group, discuss what these three sets represent. It might help to review these terms on the web. Put your answers down below:"
   ]
  },
  {
   "cell_type": "markdown",
   "metadata": {},
   "source": [
    "<font size=+3>&#9998;</font> Training set is: the portion of the data used to train the machine learning model."
   ]
  },
  {
   "cell_type": "markdown",
   "metadata": {},
   "source": [
    "<font size=+3>&#9998;</font> Testing set is:The testing set is a separate portion of the data that is used to evaluate the performance of the trained model"
   ]
  },
  {
   "cell_type": "markdown",
   "metadata": {},
   "source": [
    "<font size=+3>&#9998;</font> Validation set is:The validation set is used during the training process to tune the model's hyperparameters and prevent overfitting."
   ]
  },
  {
   "cell_type": "markdown",
   "metadata": {},
   "source": [
    "#### Defining the features and building the model\n",
    "\n",
    "If you review the image at the top of the notebook, you might notice that one of the first steps in machine learning is to go from \"raw data\" into a set of \"features\" and \"labels\". Extracting features from our data can sometimes be one of the trickier parts of the process and also one of the most important ones. We have to think carefully about exactly what the \"right\" features are for training our machine learning algorithm and, when possible, it is advantageous to find ways to reduce the total number of features we are trying to model. Once we define our features, we can build our model."
   ]
  },
  {
   "cell_type": "markdown",
   "metadata": {},
   "source": [
    "### 2.1 Working with data\n",
    "\n",
    "There is a common data set used to work with classification called the breast cancer data set. It is actually available in `sklearn` but rather than working with the dataset that's been cleaned up for us, let's continue to flex your data wrangling skills and look at the original data. You'll need to download two data files:\n",
    "\n",
    "* `breast-cancer-wisconsin.data`\n",
    "* `breast-cancer-wisconsin.names`\n",
    "\n",
    "The data are in \".data\" and the \".names\" describes that data. \n",
    "\n",
    "You can download the files from here:\n",
    "\n",
    "`https://raw.githubusercontent.com/msu-cmse-courses/cmse202-supplemental-data/main/data/breast-cancer-wisconsin.data`\n",
    "\n",
    "`https://raw.githubusercontent.com/msu-cmse-courses/cmse202-supplemental-data/main/data/breast-cancer-wisconsin.names`\n",
    "\n",
    "&#9989; **Do This:** Read in the data, label the columns based on the .names file. Look at the dtypes, anything unusual? Why?"
   ]
  },
  {
   "cell_type": "markdown",
   "metadata": {},
   "source": [
    "<font size=+3>&#9998;</font> What's unusual about dtypes? Why?"
   ]
  },
  {
   "cell_type": "code",
   "execution_count": null,
   "metadata": {},
   "outputs": [],
   "source": [
    "curl -O https://raw.githubusercontent.com/msu-cmse-courses/cmse202-supplemental-data/main/data/breast-cancer-wisconsin.names\n",
    "curl -O https://raw.githubusercontent.com/msu-cmse-courses/cmse202-supplemental-data/main/data/breast-cancer-wisconsin.data"
   ]
  },
  {
   "cell_type": "markdown",
   "metadata": {},
   "source": [
    "&#9989; **Do This:** Can you identify what the problem is? If so, can you provide a DataFrame with just the rows that are causing the problem? There are lots of ways to do this so talk it out with your group. If you get stuck, talk with an instructor, so that you can move on to the next part of the assignment without spending too much time here."
   ]
  },
  {
   "cell_type": "code",
   "execution_count": 4,
   "metadata": {},
   "outputs": [
    {
     "name": "stdout",
     "output_type": "stream",
     "text": [
      "Duplicate column names found: ['-- Size of data set', '-- Size of data set', '#####', '#####', '#####', '#####']\n",
      "Problematic rows with missing or unusual values:\n",
      "     Citation Request  acknowledgements.  Also, please cite one or more of  \\\n",
      "0             1000025                                                  5     \n",
      "1             1002945                                                  5     \n",
      "2             1015425                                                  3     \n",
      "3             1016277                                                  6     \n",
      "4             1017023                                                  4     \n",
      "..                ...                                                ...     \n",
      "694            776715                                                  3     \n",
      "695            841769                                                  2     \n",
      "696            888820                                                  5     \n",
      "697            897471                                                  4     \n",
      "698            897471                                                  4     \n",
      "\n",
      "     1. O. L. Mangasarian and W. H. Wolberg  \\\n",
      "0                                         1   \n",
      "1                                         4   \n",
      "2                                         1   \n",
      "3                                         8   \n",
      "4                                         1   \n",
      "..                                      ...   \n",
      "694                                       1   \n",
      "695                                       1   \n",
      "696                                      10   \n",
      "697                                       8   \n",
      "698                                       8   \n",
      "\n",
      "     2. William H. Wolberg and O.L. Mangasarian  \\\n",
      "0                                             1   \n",
      "1                                             4   \n",
      "2                                             1   \n",
      "3                                             8   \n",
      "4                                             1   \n",
      "..                                          ...   \n",
      "694                                           1   \n",
      "695                                           1   \n",
      "696                                          10   \n",
      "697                                           6   \n",
      "698                                           8   \n",
      "\n",
      "     3. O. L. Mangasarian, R. Setiono, and W.H. Wolberg  \\\n",
      "0                                                    1    \n",
      "1                                                    5    \n",
      "2                                                    1    \n",
      "3                                                    1    \n",
      "4                                                    3    \n",
      "..                                                 ...    \n",
      "694                                                  1    \n",
      "695                                                  1    \n",
      "696                                                  3    \n",
      "697                                                  4    \n",
      "698                                                  5    \n",
      "\n",
      "     via linear programming  in  4. K. P. Bennett & O. L. Mangasarian  \\\n",
      "0                         2   1                                     3   \n",
      "1                         7  10                                     3   \n",
      "2                         2   2                                     3   \n",
      "3                         3   4                                     3   \n",
      "4                         2   1                                     3   \n",
      "..                      ...  ..                                   ...   \n",
      "694                       3   2                                     1   \n",
      "695                       2   1                                     1   \n",
      "696                       7   3                                     8   \n",
      "697                       3   4                                    10   \n",
      "698                       4   5                                    10   \n",
      "\n",
      "     1. Title  2. Sources  ...  #####_41  #####_42  5. Number of Instances  \\\n",
      "0           1           1  ...       NaN       NaN                     NaN   \n",
      "1           2           1  ...       NaN       NaN                     NaN   \n",
      "2           1           1  ...       NaN       NaN                     NaN   \n",
      "3           7           1  ...       NaN       NaN                     NaN   \n",
      "4           1           1  ...       NaN       NaN                     NaN   \n",
      "..        ...         ...  ...       ...       ...                     ...   \n",
      "694         1           1  ...       NaN       NaN                     NaN   \n",
      "695         1           1  ...       NaN       NaN                     NaN   \n",
      "696        10           2  ...       NaN       NaN                     NaN   \n",
      "697         6           1  ...       NaN       NaN                     NaN   \n",
      "698         4           1  ...       NaN       NaN                     NaN   \n",
      "\n",
      "     6. Number of Attributes  7. Attribute Information  11. Class  \\\n",
      "0                        NaN                       NaN        NaN   \n",
      "1                        NaN                       NaN        NaN   \n",
      "2                        NaN                       NaN        NaN   \n",
      "3                        NaN                       NaN        NaN   \n",
      "4                        NaN                       NaN        NaN   \n",
      "..                       ...                       ...        ...   \n",
      "694                      NaN                       NaN        NaN   \n",
      "695                      NaN                       NaN        NaN   \n",
      "696                      NaN                       NaN        NaN   \n",
      "697                      NaN                       NaN        NaN   \n",
      "698                      NaN                       NaN        NaN   \n",
      "\n",
      "     8. Missing attribute values  9. Class distribution  Benign  Malignant  \n",
      "0                            NaN                    NaN     NaN        NaN  \n",
      "1                            NaN                    NaN     NaN        NaN  \n",
      "2                            NaN                    NaN     NaN        NaN  \n",
      "3                            NaN                    NaN     NaN        NaN  \n",
      "4                            NaN                    NaN     NaN        NaN  \n",
      "..                           ...                    ...     ...        ...  \n",
      "694                          NaN                    NaN     NaN        NaN  \n",
      "695                          NaN                    NaN     NaN        NaN  \n",
      "696                          NaN                    NaN     NaN        NaN  \n",
      "697                          NaN                    NaN     NaN        NaN  \n",
      "698                          NaN                    NaN     NaN        NaN  \n",
      "\n",
      "[699 rows x 51 columns]\n",
      "\n",
      "Data types of each column:\n",
      "Citation Request                                                         int64\n",
      "acknowledgements.  Also, please cite one or more of                      int64\n",
      "1. O. L. Mangasarian and W. H. Wolberg                                   int64\n",
      "2. William H. Wolberg and O.L. Mangasarian                               int64\n",
      "3. O. L. Mangasarian, R. Setiono, and W.H. Wolberg                       int64\n",
      "via linear programming                                                   int64\n",
      "in                                                                      object\n",
      "4. K. P. Bennett & O. L. Mangasarian                                     int64\n",
      "1. Title                                                                 int64\n",
      "2. Sources                                                               int64\n",
      "-- Donor                                                                 int64\n",
      "-- Date                                                                float64\n",
      "3. Past Usage                                                          float64\n",
      "Each instance has one of 2 possible classes                            float64\n",
      "-- Size of data set                                                    float64\n",
      "-- Collected classification results                                    float64\n",
      "-- Accuracy on remaining 50% of dataset                                float64\n",
      "-- Accuracy on remaining 33% of dataset                                float64\n",
      "Learning Conference} (pp. 470--479).  Aberdeen, Scotland               float64\n",
      "-- Size of data set_19                                                 float64\n",
      "-- Best accuracy result                                                float64\n",
      "-- 1-nearest neighbor                                                  float64\n",
      "-- Also of interest                                                    float64\n",
      "-- Using only typical instances                                        float64\n",
      "4. Relevant Information                                                float64\n",
      "from the data itself                                                   float64\n",
      "Group 1                                                                float64\n",
      "Group 2                                                                float64\n",
      "Group 3                                                                float64\n",
      "Group 4                                                                float64\n",
      "Group 5                                                                float64\n",
      "Group 6                                                                float64\n",
      "Group 7                                                                float64\n",
      "Group 8                                                                float64\n",
      "Total                                                                  float64\n",
      "statements summarizes changes to the original Group 1's set of data    float64\n",
      "#####  Group 1                                                         float64\n",
      "#####  Revised Jan 10, 1991                                            float64\n",
      "#####  Revised Nov 22,1991                                             float64\n",
      "#####                                                                  float64\n",
      "#####_40                                                               float64\n",
      "#####_41                                                               float64\n",
      "#####_42                                                               float64\n",
      "5. Number of Instances                                                 float64\n",
      "6. Number of Attributes                                                float64\n",
      "7. Attribute Information                                               float64\n",
      "11. Class                                                              float64\n",
      "8. Missing attribute values                                            float64\n",
      "9. Class distribution                                                  float64\n",
      "Benign                                                                 float64\n",
      "Malignant                                                              float64\n",
      "dtype: object\n",
      "\n",
      "Clean DataFrame (rows with missing values removed):\n",
      "Empty DataFrame\n",
      "Columns: [Citation Request, acknowledgements.  Also, please cite one or more of, 1. O. L. Mangasarian and W. H. Wolberg, 2. William H. Wolberg and O.L. Mangasarian, 3. O. L. Mangasarian, R. Setiono, and W.H. Wolberg, via linear programming, in, 4. K. P. Bennett & O. L. Mangasarian, 1. Title, 2. Sources, -- Donor, -- Date, 3. Past Usage, Each instance has one of 2 possible classes, -- Size of data set, -- Collected classification results, -- Accuracy on remaining 50% of dataset, -- Accuracy on remaining 33% of dataset, Learning Conference} (pp. 470--479).  Aberdeen, Scotland, -- Size of data set_19, -- Best accuracy result, -- 1-nearest neighbor, -- Also of interest, -- Using only typical instances, 4. Relevant Information, from the data itself, Group 1, Group 2, Group 3, Group 4, Group 5, Group 6, Group 7, Group 8, Total, statements summarizes changes to the original Group 1's set of data, #####  Group 1, #####  Revised Jan 10, 1991, #####  Revised Nov 22,1991, #####, #####_40, #####_41, #####_42, 5. Number of Instances, 6. Number of Attributes, 7. Attribute Information, 11. Class, 8. Missing attribute values, 9. Class distribution, Benign, Malignant]\n",
      "Index: []\n",
      "\n",
      "[0 rows x 51 columns]\n"
     ]
    }
   ],
   "source": [
    "import pandas as pd\n",
    "\n",
    "with open('breast-cancer-wisconsin.names', 'r') as names_file:\n",
    "    column_names = [line.split(':')[0].strip() for line in names_file.readlines() if ':' in line]\n",
    "duplicate_names = [name for name in column_names if column_names.count(name) > 1]\n",
    "print(\"Duplicate column names found:\", duplicate_names)\n",
    "seen = set()\n",
    "for i in range(len(column_names)):\n",
    "    if column_names[i] in seen:\n",
    "        column_names[i] = f\"{column_names[i]}_{i}\"  # Append an index to make unique\n",
    "    seen.add(column_names[i])\n",
    "\n",
    "data = pd.read_csv('breast-cancer-wisconsin.data', header=None, names=column_names)\n",
    "\n",
    "data.replace('?', pd.NA, inplace=True)\n",
    "\n",
    "problematic_rows = data[data.isna().any(axis=1)]\n",
    "\n",
    "print(\"Problematic rows with missing or unusual values:\")\n",
    "print(problematic_rows)\n",
    "\n",
    "print(\"\\nData types of each column:\")\n",
    "print(data.dtypes)\n",
    "\n",
    "clean_data = data.dropna()\n",
    "\n",
    "print(\"\\nClean DataFrame (rows with missing values removed):\")\n",
    "print(clean_data.head())\n",
    "\n",
    "\n"
   ]
  },
  {
   "cell_type": "markdown",
   "metadata": {},
   "source": [
    "As you hopefully discussed, we happen to have some rows with missing data values. So, as we've seen previously, we have an imputation problem.\n",
    "\n",
    "&#9989; **Do This:**  Write code to solve this missing data problem and say what you did.\n",
    "\n",
    "By the way, there is an argument `na_values` that you can provide to `read_csv` that will mark a list of characters as if they were `np.nan` using `na_values`, which is pretty darn convenient. Using that will help when importing the data for classification. "
   ]
  },
  {
   "cell_type": "code",
   "execution_count": 7,
   "metadata": {},
   "outputs": [
    {
     "name": "stdout",
     "output_type": "stream",
     "text": [
      "Duplicate column names found: ['-- Size of data set', '-- Size of data set', '#####', '#####', '#####', '#####']\n",
      "\n",
      "Missing data overview:\n",
      "Citation Request                                                         0\n",
      "acknowledgements.  Also, please cite one or more of                      0\n",
      "1. O. L. Mangasarian and W. H. Wolberg                                   0\n",
      "2. William H. Wolberg and O.L. Mangasarian                               0\n",
      "3. O. L. Mangasarian, R. Setiono, and W.H. Wolberg                       0\n",
      "via linear programming                                                   0\n",
      "in                                                                      16\n",
      "4. K. P. Bennett & O. L. Mangasarian                                     0\n",
      "1. Title                                                                 0\n",
      "2. Sources                                                               0\n",
      "-- Donor                                                                 0\n",
      "-- Date                                                                699\n",
      "3. Past Usage                                                          699\n",
      "Each instance has one of 2 possible classes                            699\n",
      "-- Size of data set                                                    699\n",
      "-- Collected classification results                                    699\n",
      "-- Accuracy on remaining 50% of dataset                                699\n",
      "-- Accuracy on remaining 33% of dataset                                699\n",
      "Learning Conference} (pp. 470--479).  Aberdeen, Scotland               699\n",
      "-- Size of data set_19                                                 699\n",
      "-- Best accuracy result                                                699\n",
      "-- 1-nearest neighbor                                                  699\n",
      "-- Also of interest                                                    699\n",
      "-- Using only typical instances                                        699\n",
      "4. Relevant Information                                                699\n",
      "from the data itself                                                   699\n",
      "Group 1                                                                699\n",
      "Group 2                                                                699\n",
      "Group 3                                                                699\n",
      "Group 4                                                                699\n",
      "Group 5                                                                699\n",
      "Group 6                                                                699\n",
      "Group 7                                                                699\n",
      "Group 8                                                                699\n",
      "Total                                                                  699\n",
      "statements summarizes changes to the original Group 1's set of data    699\n",
      "#####  Group 1                                                         699\n",
      "#####  Revised Jan 10, 1991                                            699\n",
      "#####  Revised Nov 22,1991                                             699\n",
      "#####                                                                  699\n",
      "#####_40                                                               699\n",
      "#####_41                                                               699\n",
      "#####_42                                                               699\n",
      "5. Number of Instances                                                 699\n",
      "6. Number of Attributes                                                699\n",
      "7. Attribute Information                                               699\n",
      "11. Class                                                              699\n",
      "8. Missing attribute values                                            699\n",
      "9. Class distribution                                                  699\n",
      "Benign                                                                 699\n",
      "Malignant                                                              699\n",
      "dtype: int64\n",
      "\n",
      "Missing data after imputation:\n",
      "Citation Request                                                         0\n",
      "acknowledgements.  Also, please cite one or more of                      0\n",
      "1. O. L. Mangasarian and W. H. Wolberg                                   0\n",
      "2. William H. Wolberg and O.L. Mangasarian                               0\n",
      "3. O. L. Mangasarian, R. Setiono, and W.H. Wolberg                       0\n",
      "via linear programming                                                   0\n",
      "in                                                                       0\n",
      "4. K. P. Bennett & O. L. Mangasarian                                     0\n",
      "1. Title                                                                 0\n",
      "2. Sources                                                               0\n",
      "-- Donor                                                                 0\n",
      "-- Date                                                                699\n",
      "3. Past Usage                                                          699\n",
      "Each instance has one of 2 possible classes                            699\n",
      "-- Size of data set                                                    699\n",
      "-- Collected classification results                                    699\n",
      "-- Accuracy on remaining 50% of dataset                                699\n",
      "-- Accuracy on remaining 33% of dataset                                699\n",
      "Learning Conference} (pp. 470--479).  Aberdeen, Scotland               699\n",
      "-- Size of data set_19                                                 699\n",
      "-- Best accuracy result                                                699\n",
      "-- 1-nearest neighbor                                                  699\n",
      "-- Also of interest                                                    699\n",
      "-- Using only typical instances                                        699\n",
      "4. Relevant Information                                                699\n",
      "from the data itself                                                   699\n",
      "Group 1                                                                699\n",
      "Group 2                                                                699\n",
      "Group 3                                                                699\n",
      "Group 4                                                                699\n",
      "Group 5                                                                699\n",
      "Group 6                                                                699\n",
      "Group 7                                                                699\n",
      "Group 8                                                                699\n",
      "Total                                                                  699\n",
      "statements summarizes changes to the original Group 1's set of data    699\n",
      "#####  Group 1                                                         699\n",
      "#####  Revised Jan 10, 1991                                            699\n",
      "#####  Revised Nov 22,1991                                             699\n",
      "#####                                                                  699\n",
      "#####_40                                                               699\n",
      "#####_41                                                               699\n",
      "#####_42                                                               699\n",
      "5. Number of Instances                                                 699\n",
      "6. Number of Attributes                                                699\n",
      "7. Attribute Information                                               699\n",
      "11. Class                                                              699\n",
      "8. Missing attribute values                                            699\n",
      "9. Class distribution                                                  699\n",
      "Benign                                                                 699\n",
      "Malignant                                                              699\n",
      "dtype: int64\n",
      "\n",
      "Cleaned data:\n",
      "   Citation Request  acknowledgements.  Also, please cite one or more of  \\\n",
      "0           1000025                                                  5     \n",
      "1           1002945                                                  5     \n",
      "2           1015425                                                  3     \n",
      "3           1016277                                                  6     \n",
      "4           1017023                                                  4     \n",
      "\n",
      "   1. O. L. Mangasarian and W. H. Wolberg  \\\n",
      "0                                       1   \n",
      "1                                       4   \n",
      "2                                       1   \n",
      "3                                       8   \n",
      "4                                       1   \n",
      "\n",
      "   2. William H. Wolberg and O.L. Mangasarian  \\\n",
      "0                                           1   \n",
      "1                                           4   \n",
      "2                                           1   \n",
      "3                                           8   \n",
      "4                                           1   \n",
      "\n",
      "   3. O. L. Mangasarian, R. Setiono, and W.H. Wolberg  via linear programming  \\\n",
      "0                                                  1                        2   \n",
      "1                                                  5                        7   \n",
      "2                                                  1                        2   \n",
      "3                                                  1                        3   \n",
      "4                                                  3                        2   \n",
      "\n",
      "     in  4. K. P. Bennett & O. L. Mangasarian  1. Title  2. Sources  ...  \\\n",
      "0   1.0                                     3         1           1  ...   \n",
      "1  10.0                                     3         2           1  ...   \n",
      "2   2.0                                     3         1           1  ...   \n",
      "3   4.0                                     3         7           1  ...   \n",
      "4   1.0                                     3         1           1  ...   \n",
      "\n",
      "   #####_41  #####_42  5. Number of Instances  6. Number of Attributes  \\\n",
      "0       NaN       NaN                     NaN                      NaN   \n",
      "1       NaN       NaN                     NaN                      NaN   \n",
      "2       NaN       NaN                     NaN                      NaN   \n",
      "3       NaN       NaN                     NaN                      NaN   \n",
      "4       NaN       NaN                     NaN                      NaN   \n",
      "\n",
      "   7. Attribute Information  11. Class  8. Missing attribute values  \\\n",
      "0                       NaN        NaN                          NaN   \n",
      "1                       NaN        NaN                          NaN   \n",
      "2                       NaN        NaN                          NaN   \n",
      "3                       NaN        NaN                          NaN   \n",
      "4                       NaN        NaN                          NaN   \n",
      "\n",
      "   9. Class distribution  Benign  Malignant  \n",
      "0                    NaN     NaN        NaN  \n",
      "1                    NaN     NaN        NaN  \n",
      "2                    NaN     NaN        NaN  \n",
      "3                    NaN     NaN        NaN  \n",
      "4                    NaN     NaN        NaN  \n",
      "\n",
      "[5 rows x 51 columns]\n"
     ]
    },
    {
     "name": "stderr",
     "output_type": "stream",
     "text": [
      "/tmp/ipykernel_3887208/3418545026.py:22: FutureWarning: A value is trying to be set on a copy of a DataFrame or Series through chained assignment using an inplace method.\n",
      "The behavior will change in pandas 3.0. This inplace method will never work because the intermediate object on which we are setting values always behaves as a copy.\n",
      "\n",
      "For example, when doing 'df[col].method(value, inplace=True)', try using 'df.method({col: value}, inplace=True)' or df[col] = df[col].method(value) instead, to perform the operation inplace on the original object.\n",
      "\n",
      "\n",
      "  data[col].fillna(data[col].mean(), inplace=True)\n"
     ]
    }
   ],
   "source": [
    "import pandas as pd\n",
    "import numpy as np\n",
    "with open('breast-cancer-wisconsin.names', 'r') as names_file:\n",
    "    column_names = [line.split(':')[0].strip() for line in names_file.readlines() if ':' in line]\n",
    "\n",
    "duplicate_names = [name for name in column_names if column_names.count(name) > 1]\n",
    "print(\"Duplicate column names found:\", duplicate_names)\n",
    "\n",
    "seen = set()\n",
    "for i in range(len(column_names)):\n",
    "    if column_names[i] in seen:\n",
    "        column_names[i] = f\"{column_names[i]}_{i}\"  # Append an index to make unique\n",
    "    seen.add(column_names[i])\n",
    "\n",
    "data = pd.read_csv('breast-cancer-wisconsin.data', header=None, names=column_names, na_values='?')\n",
    "\n",
    "print(\"\\nMissing data overview:\")\n",
    "print(data.isna().sum())  \n",
    "\n",
    "numeric_cols = data.select_dtypes(include=[np.number]).columns\n",
    "for col in numeric_cols:\n",
    "    data[col].fillna(data[col].mean(), inplace=True)\n",
    "\n",
    "categorical_cols = data.select_dtypes(include=[object]).columns\n",
    "for col in categorical_cols:\n",
    "    data[col].fillna(data[col].mode()[0], inplace=True)\n",
    "\n",
    "print(\"\\nMissing data after imputation:\")\n",
    "print(data.isna().sum())  \n",
    "\n",
    "print(\"\\nCleaned data:\")\n",
    "print(data.head())\n",
    "\n"
   ]
  },
  {
   "cell_type": "markdown",
   "metadata": {},
   "source": [
    "----\n",
    "## 2.2 : Splitting the dataset for model into training and testing sets\n",
    "Now that's we've loaded up and cleaned up the data, let's split the data in a training set and final testing set. We want to randomly select 75% of the data for training and 25% of the data for testing.\n",
    "\n",
    "Also, **you should turn the `class_labels` into 0 (currently 2, for benign) and 1 (currently 4, for malignant) as the classifier we are going to use (Logisitic Regression) predicts valuse between 0 and 1.**"
   ]
  },
  {
   "cell_type": "markdown",
   "metadata": {},
   "source": [
    "&#9989; **Do This**: You will need to come up with a way to split the data into separate training and testing sets (we will leave the validation set out for now).  Make sure you keep the feature vectors and classes together.  \n",
    "\n",
    "**BIG HINT**: This is a very common step in machine learning, and there exists a function to do this for you in the `sklearn` library called `train_test_split`. From the [documentation](https://scikit-learn.org/stable/modules/generated/sklearn.model_selection.train_test_split.html), you find that takes the features and class labels as input and returns\n",
    "4 outputs:\n",
    "- 2 feature sets (one for training and one for testing)\n",
    "- 2 class labels sets (the corresponding one for training and for testing)\n",
    "\n",
    "Use `train_test_split` to split your data into a training set and a testing set that correspond to 75% and 25% of your data respectively. To ensure that some of the provided code below will work, you should use the variable names `train_vectors`, `test_vectors`, `train_labels`, and `test_labels` to store your results. Check the length of the resulting output to make sure the splits follow what you expected.\n",
    "\n",
    "**Important Note**: You'll need to break up your dataframe into a set of labels and a set of features before you do the train-test splitting. You also want to make sure you \"features\" don't include any columns that don't make sense to use as features (i.e. avoid including columns that would not be expected to have any meaningful influence on the labels)"
   ]
  },
  {
   "cell_type": "code",
   "execution_count": 8,
   "metadata": {},
   "outputs": [
    {
     "name": "stdout",
     "output_type": "stream",
     "text": [
      "Training set size: 524\n",
      "Testing set size: 175\n"
     ]
    }
   ],
   "source": [
    "import pandas as pd\n",
    "from sklearn.model_selection import train_test_split\n",
    "\n",
    "features = data.iloc[:, :-1]  \n",
    "labels = data.iloc[:, -1]    \n",
    "\n",
    "labels = labels.replace({2: 0, 4: 1})\n",
    "\n",
    "train_vectors, test_vectors, train_labels, test_labels = train_test_split(features, labels, test_size=0.25, random_state=42)\n",
    "\n",
    "print(f\"Training set size: {len(train_vectors)}\")\n",
    "print(f\"Testing set size: {len(test_vectors)}\")\n"
   ]
  },
  {
   "cell_type": "markdown",
   "metadata": {},
   "source": [
    "&#9989; **Question**: Why do we need to separate our samples into a training and testing set. Why can't we just use all the data for both? Wouldn't that make it work better?"
   ]
  },
  {
   "cell_type": "markdown",
   "metadata": {},
   "source": [
    "<font size=+3>&#9998;</font> We separate the data into training and testing sets to prevent overfitting. if we use all the data for both training and testing ,it wouldn't generalize well to new, unseen data. The testing set helps to evaluate the model's realworld performance."
   ]
  },
  {
   "cell_type": "markdown",
   "metadata": {},
   "source": [
    "----\n",
    "<a id=\"logit\"></a>\n",
    "## 3 Logistic Regression\n",
    "\n",
    "In the pre-class, you watched a video explaining some of the aspects of the logistic regression. The full details on logistic regression require deeper study, but we can gain some insight from looking at the function we are trying to fit to our data. Plot out the curve to the following equation, called the **logistic function**:\n",
    "\n",
    "$$ f(x) = \\frac{e^{x}} {1+e^{x} }  \\equiv \\frac{1}{1+e^{-x} } $$\n",
    "\n",
    "&#9989; **Do This**: Create a logistic function and then make the plot of $f(x)$ for $x$ over the range -6 to 6."
   ]
  },
  {
   "cell_type": "code",
   "execution_count": 9,
   "metadata": {},
   "outputs": [
    {
     "data": {
      "image/png": "[encoded data removed]",
      "text/plain": [
       "<Figure size 640x480 with 1 Axes>"
      ]
     },
     "metadata": {},
     "output_type": "display_data"
    }
   ],
   "source": [
    "\n",
    "import numpy as np\n",
    "import matplotlib.pyplot as plt\n",
    "def logistic_function(x):\n",
    "    return 1 / (1 + np.exp(-x))\n",
    "\n",
    "x = np.linspace(-6, 6, 100)\n",
    "y = logistic_function(x)\n",
    "\n",
    "# Plot the logistic function\n",
    "plt.plot(x, y, label='Logistic Function', color='b')\n",
    "plt.title('Logistic Function Curve')\n",
    "plt.xlabel('x')\n",
    "plt.ylabel('y')\n",
    "plt.grid(True)\n",
    "plt.axhline(0, color='black',linewidth=0.5)\n",
    "plt.axvline(0, color='black',linewidth=0.5)\n",
    "plt.legend()\n",
    "plt.show()\n"
   ]
  },
  {
   "cell_type": "markdown",
   "metadata": {},
   "source": [
    "What is interesting about that curve is that all values of x are mapped into the range for y of 0.0-1.0. Assuming you have a binary classifier, that is one that only has two class labels, that is the mapping you want: all combination of features map into the two class labels 0, or 1. Moreover, the graph looks a lot like a [cumulative probability distribution](https://en.wikipedia.org/wiki/Cumulative_distribution_function). The probability that a set of features is of class 1 is 1 to the right and 0 to the left. As you watched in the pre-class video, this is the basis for logistic regression.\n",
    "\n",
    "It's considered a regression because the \"x\" in our logisitic function is actually going to be a regression equation, such that\n",
    "\n",
    "$$ fn= b_{0} + b_{1}x_{1} + b_{2}x_{2} + \\ldots  $$\n",
    "\n",
    "for as many terms as we like and the new logistic function\n",
    "\n",
    "$$ f(x) = \\frac{e^{fn(x))}} {1+e^{fn(x)} }  \\equiv \\frac{1}{1+e^{-fn(x)} } $$\n",
    "\n",
    "Logisitic classification tries to find the values for the parameters $b_{i}$ that gives maximal performance on training, and hopefully testing. Let's let `statsmodels` do that.\n",
    "\n",
    "We are going to use all the training data from above and train a logistic regression. It is similar to what we did before with regular regression.\n",
    "\n",
    "Note, very importantly, the use of `sm.add_constant` on the training vectors. We talked about that when we did OLS in statsmodels. That column of constant is what the $b_{0}$ or intercept will train against. We need that column to get an intercept. (Note that this code requires that you used `train_labels` and `train_vectors` when you did the train-test split earlier)"
   ]
  },
  {
   "cell_type": "code",
   "execution_count": 12,
   "metadata": {},
   "outputs": [
    {
     "ename": "SyntaxError",
     "evalue": "invalid syntax (2475983244.py, line 20)",
     "output_type": "error",
     "traceback": [
      "\u001b[0;36m  Cell \u001b[0;32mIn[12], line 20\u001b[0;36m\u001b[0m\n\u001b[0;31m    train_vectors_with_const_cleaned =\u001b[0m\n\u001b[0m                                      ^\u001b[0m\n\u001b[0;31mSyntaxError\u001b[0m\u001b[0;31m:\u001b[0m invalid syntax\n"
     ]
    }
   ],
   "source": [
    "\n",
    "\n"
   ]
  },
  {
   "cell_type": "markdown",
   "metadata": {},
   "source": [
    "The \"Pseudo R-squ\" is the equivalent (mostly) of the R-squared value in Linear regression that we looked for before. It ranges from 0 (poor fit) to 1 (perfect fit). The P values under \"P > |z|\" are measures of significance. The null hypothesis is that the restricted model (say a constant value for `fn`) performs better and a low p-value suggests that we can reject this hypothesis and prefer the full model over the null model (I.e., LOW $P$-VALUE IS GOOD). This is similar to the F-test for linear regression.\n",
    "\n",
    "&#9989; **Do This**: Based on the results from above, remove the low-performing columns and then recreate the training and testing sets and run it again. Display the summary."
   ]
  },
  {
   "cell_type": "code",
   "execution_count": null,
   "metadata": {},
   "outputs": [],
   "source": [
    "\n"
   ]
  },
  {
   "cell_type": "markdown",
   "metadata": {},
   "source": [
    "&#9989; **Question:** How do the fits of the full model and the reduced model compare? What evidence are you using to make compare these two fits?"
   ]
  },
  {
   "cell_type": "markdown",
   "metadata": {},
   "source": [
    "<font size=+3>&#9998;</font> Do This - Erase the contents of this cell and replace it with your answer to the above question!  (double-click on this text to edit this cell, and hit shift+enter to save the text)"
   ]
  },
  {
   "cell_type": "markdown",
   "metadata": {},
   "source": [
    "### 3.1 How'd it go?\n",
    "\n",
    "There are a number of ways that we can check the performance of our model and we will continue new ways throughout the semester. The major difference in the standard statistics approach and supervised learning approaches is that we test our models using the data that we held out: \"the testing data.\" \n",
    "\n",
    "That is, we will use our classifier model to make predictions from the test features and we can then compare those predictions to actual test labels. To test accuracy, we can use the output of the `.fit()` method of the model to predict how well the classifier works on the test data (the data it was not trained on). Conveniently that is the `.predict()` method and, again, we use it on the result of the `.fit()`. \n",
    "\n",
    "**Note:** The output from `.predict()` is not a 0/1 value as the test labels are, but rather a fraction between 0 and 1 indicating how likely each entry is to be one class or another. We can make the assumption that anything greater than 0.5 would be a 1 class and anything less than 0.5 would be a 0 class. \n",
    "\n",
    "&#9989; **Do This**: do the following:\n",
    "- use the `.predict()` method (look up the documentation as necessary) to create the predicted labels using the test input\n",
    "- convert the output of the `.predict()` method to the 0/1 class values of the test labels\n",
    "- print the resulting predicted class values of the test labels"
   ]
  },
  {
   "cell_type": "code",
   "execution_count": null,
   "metadata": {},
   "outputs": [],
   "source": [
    "# put your code here\n"
   ]
  },
  {
   "cell_type": "markdown",
   "metadata": {},
   "source": [
    "One of the first metrics we will use in determining how well a machine learning model is working is the \"accuracy score\", which compares the predictions our model made for the test labels and the actual test labels. This score is one of many metrics we can use and is included in `sklearn.metrics` as (surprise) `accuracy_score()`. Here's the [documentation](https://scikit-learn.org/stable/modules/generated/sklearn.metrics.accuracy_score.html#sklearn.metrics.accuracy_score) on `accuracy_score`.\n",
    "\n",
    "&#9989; **Do This**: Using the predicted 0/1 labels you just created:\n",
    "- Use the `sklearn.metrics` we imported at the top and run the `accuracy_score` on the 0/1 predicted label and the test labels.\n",
    "- Print your accuracy result"
   ]
  },
  {
   "cell_type": "code",
   "execution_count": null,
   "metadata": {},
   "outputs": [],
   "source": [
    "# put your code here\n"
   ]
  },
  {
   "cell_type": "markdown",
   "metadata": {},
   "source": [
    "&#9989; **Question:** How well did your model predict the test class labels? Given what you learned in the pre-class assignment about false positives and false negatives, what other questions should we ask about the accuracy of our model?"
   ]
  },
  {
   "cell_type": "markdown",
   "metadata": {},
   "source": [
    "<font size=+3>&#9998;</font> Do This - Erase the contents of this cell and replace it with your answer to the above question!  (double-click on this text to edit this cell, and hit shift+enter to save the text)"
   ]
  },
  {
   "cell_type": "markdown",
   "metadata": {},
   "source": [
    "-----\n",
    "### Congratulations, we're done!\n",
    "\n",
    "Now, you just need to submit this assignment by uploading it to the course <a href=\"https://d2l.msu.edu/\">Desire2Learn</a> web page for today's submission folder (Don't forget to add your names in the first cell).\n"
   ]
  },
  {
   "cell_type": "markdown",
   "metadata": {},
   "source": [
    "&#169; Copyright 2024,  Department of Computational Mathematics, Science and Engineering at Michigan State University\n",
    "\n",
    "<!-- 9/16/2024 -->"
   ]
  },
  {
   "cell_type": "markdown",
   "metadata": {},
   "source": []
  }
 ],
 "metadata": {
  "interpreter": {
   "hash": "31f2aee4e71d21fbe5cf8b01ff0e069b9275f58929596ceb00d14d90e3e16cd6"
  },
  "kernelspec": {
   "display_name": "Python 3.11 (default)",
   "language": "python",
   "name": "python3"
  },
  "language_info": {
   "codemirror_mode": {
    "name": "ipython",
    "version": 3
   },
   "file_extension": ".py",
   "mimetype": "text/x-python",
   "name": "python",
   "nbconvert_exporter": "python",
   "pygments_lexer": "ipython3",
   "version": "3.11.11"
  },
  "widgets": {
   "application/vnd.jupyter.widget-state+json": {
    "state": {},
    "version_major": 2,
    "version_minor": 0
   }
  }
 },
 "nbformat": 4,
 "nbformat_minor": 4
}
