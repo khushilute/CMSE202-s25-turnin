{
 "cells": [
  {
   "cell_type": "markdown",
   "metadata": {},
   "source": [
    "# [Section 004] Pre-Class Assignment: Reviewing Project Ideas\n",
    "# Day 12 \n",
    "# CMSE 202"
   ]
  },
  {
   "cell_type": "markdown",
   "metadata": {},
   "source": [
    "## <p style=\"text-align: right;\"> &#9989; Put your name here</p>"
   ]
  },
  {
   "cell_type": "markdown",
   "metadata": {},
   "source": [
    "In this pre-class assignment we are going to explore your project ideas for class.  The ideas are pulled from the project brainstorming you did previously. The instructional staff did their best to interpret the concept of your ideas based on what you submitted to the previous pre-class survey. In some cases we had to try to put vagues thoughts into concrete categories and we may have misconstrued the original intent -- sorry if your idea was mangled!\n",
    "\n",
    "Please think about what would make a good and interesting project and complete the following:\n",
    "\n",
    "**&#9989; Do This:** \n",
    "\n",
    "1. Read though the following project ideas and put notes in the `comments` slot provided on any that you find interesting.\n",
    "2. Having read through them all, write down your top 3 in the list below using names like \"Social: Impact of this on that\" or \"Sports: Predict the winner of Excel Tournament\" (the category and the question). Consider the following factors as you are investigating for your top 3.\n",
    "    * Is the project something you are interested in?\n",
    "    * How hard will the project be for a group to complete? \n",
    "    * Can you find any python libraries or datasets that would help with the project?\n",
    "    * Is this just a toy project or is the project scientifically motivated. I.e. what broad scientific questions would this project be able to answer?\n",
    "3. Having selected three, add some details in your `Top Three List` with information like:\n",
    "    * Any links to new information or datasets.\n",
    "    * Scientific questions that this project would be able to explore.\n",
    "    * Computational methods you might use for the project.\n",
    "    * Additional thoughts or ideas you want to tell the instructors. \n",
    "\n",
    "**Note:** You are welcome to also combine two or more project ideas into one bigger project. Or you can come up with a new project idea.  Reference the projects based on their project numbers. Do not change the numbers. "
   ]
  },
  {
   "cell_type": "markdown",
   "metadata": {},
   "source": [
    "## Top Three List (with some details)\n",
    "\n",
    "1. \n",
    "\n",
    "2. \n",
    "\n",
    "3. "
   ]
  },
  {
   "cell_type": "markdown",
   "metadata": {},
   "source": [
    "---\n",
    "\n",
    "# Project Ideas From Brainstorming:"
   ]
  },
  {
   "cell_type": "markdown",
   "metadata": {},
   "source": [
    "## Sports and Game Analysis\n",
    "\n",
    "1. How can statistical analysis optimize performance and strategy in team sports (basketball shot selection, soccer formations, football play calling)?\n",
    "   **Comments:**\n",
    "\n",
    "2. Which gaming strategies provide optimal results in different games (card counting in blackjack, opening moves in board games, deck building in card games)?\n",
    "   **Comments:**\n",
    "\n",
    "3. Can machine learning models consistently outperform human expertise in sports betting markets (NBA, MLB, NFL)?\n",
    "   **Comments:**\n",
    "\n",
    "## Financial Analysis and Prediction\n",
    "\n",
    "4. How effectively can neural networks predict market movements and identify early warning signs of market bubbles?\n",
    "   **Comments:**\n",
    "\n",
    "5. What combination of technical indicators and algorithms creates the most effective portfolio optimization strategy?\n",
    "   **Comments:**\n",
    "\n",
    "6. How do macroeconomic factors (trade policies, inflation rates, government administration) quantifiably impact stock market performance?\n",
    "   **Comments:**\n",
    "\n",
    "## Health and Biology\n",
    "\n",
    "7. What is the relationship between environmental factors (air quality, sleep patterns) and human performance metrics (academic achievement, cognitive function)?\n",
    "   **Comments:**\n",
    "\n",
    "8. How can machine learning improve medical diagnostics through image analysis (MRIs, X-rays, microscopy)?\n",
    "   **Comments:**\n",
    "\n",
    "## Environmental and Climate Studies\n",
    "\n",
    "9. How do human activities (deforestation, pollution) quantifiably affect climate systems and biodiversity?\n",
    "   **Comments:**\n",
    "\n",
    "10. What predator-prey dynamics and competitive factors create stable or unstable ecosystem models?\n",
    "    **Comments:**\n",
    "\n",
    "## Media and Entertainment Analysis\n",
    "\n",
    "11. What combination of factors best predicts entertainment success metrics (movie box office, streaming viewership, music popularity)?\n",
    "    **Comments:**\n",
    "\n",
    "12. How do social media patterns (content virality, language evolution, sentiment analysis) correlate with real-world outcomes (consumer behavior, market movements)?\n",
    "    **Comments:**\n",
    "\n",
    "## Space and Physics Simulations\n",
    "\n",
    "13. How can we optimize computational models for complex astronomical systems (orbital dynamics, binary star habitable zones, exoplanet detection)?\n",
    "    **Comments:**\n",
    "\n",
    "14. What computational methods most efficiently simulate multi-body gravitational interactions for space mission planning?\n",
    "    **Comments:**\n",
    "\n",
    "## Urban and Transportation Analysis\n",
    "\n",
    "15. How can network theory and optimization algorithms improve transportation efficiency (airport operations, traffic flow, public transit routing)?\n",
    "    **Comments:**\n",
    "\n",
    "16. Which urban planning approaches minimize energy consumption and maximize accessibility based on simulation models?\n",
    "    **Comments:**\n",
    "\n",
    "## Natural Disaster and Emergency Modeling\n",
    "\n",
    "17. How can machine learning improve natural disaster prediction and impact assessment (earthquakes, hurricanes, floods)?\n",
    "    **Comments:**\n",
    "\n",
    "18. What factors most significantly influence disease transmission patterns in different population densities and structures?\n",
    "    **Comments:**\n",
    "\n",
    "## Interdisciplinary Applications\n",
    "\n",
    "19. How can agent-based modeling techniques be applied across different domains (economics, ecology, social systems) to reveal emergent behaviors?\n",
    "    **Comments:**\n",
    "\n",
    "20. What data visualization techniques most effectively communicate complex patterns in multidimensional datasets for decision-making?\n",
    "    **Comments:**"
   ]
  },
  {
   "cell_type": "markdown",
   "metadata": {},
   "source": [
    "------\n",
    "\n",
    "# New project ideas\n",
    "\n",
    "If you've come up with new project ideas since our brainstorming session, feel free to add them here. Make sure to include the same sort of information you put together for your \"top 3\" models from above. Make a note in assignment wrap-up survey in the \"Follow-up Questions\" text box if any of your new ideas happen to be your new favorite idea."
   ]
  },
  {
   "cell_type": "markdown",
   "metadata": {},
   "source": [
    "## < New Idea >\n",
    "\n",
    "< New idea description >\n",
    "\n",
    "**Comments:**\n"
   ]
  },
  {
   "cell_type": "markdown",
   "metadata": {},
   "source": [
    "---\n",
    "## Follow-up Questions\n",
    "\n",
    "Copy and paste the following questions into the appropriate box in the assignment survey include below and answer them there. (Note: You'll have to fill out the assignment number and go to the \"NEXT\" section of the survey to paste in these questions.)\n",
    "\n",
    "1. What are your current top three project ideas that you're most interested in? (You should be able to copy this from the list your created at the beginning of this notebook)."
   ]
  },
  {
   "cell_type": "markdown",
   "metadata": {},
   "source": [
    "----\n",
    "# Assignment wrap-up\n",
    "\n",
    "Please fill out the form that appears when you run the code below.  **You must completely fill this out in order to receive credit for the assignment!**"
   ]
  },
  {
   "cell_type": "code",
   "execution_count": null,
   "metadata": {},
   "outputs": [],
   "source": [
    "from IPython.display import HTML\n",
    "HTML(\n",
    "\"\"\"\n",
    "<iframe \n",
    "\tsrc=\"https://cmse.msu.edu/cmse202-pc-survey\" \n",
    "\twidth=\"800px\" \n",
    "\theight=\"600px\" \n",
    "\tframeborder=\"0\" \n",
    "\tmarginheight=\"0\" \n",
    "\tmarginwidth=\"0\">\n",
    "\tLoading...\n",
    "</iframe>\n",
    "\"\"\"\n",
    ")"
   ]
  },
  {
   "cell_type": "markdown",
   "metadata": {},
   "source": [
    "---------\n",
    "### Congratulations, you're done with your pre-class assignment!\n",
    "\n",
    "Now, you just need to submit this assignment by uploading it to the course <a href=\"https://d2l.msu.edu/\">Desire2Learn</a> web page for today's submission folder (Don't forget to add your name in the first cell)."
   ]
  },
  {
   "cell_type": "markdown",
   "metadata": {},
   "source": [
    "&#169; Copyright 2023,  Department of Computational Mathematics, Science and Engineering at Michigan State University"
   ]
  }
 ],
 "metadata": {
  "kernelspec": {
   "display_name": "Python 3.11 (default)",
   "language": "python",
   "name": "python3"
  },
  "language_info": {
   "codemirror_mode": {
    "name": "ipython",
    "version": 3
   },
   "file_extension": ".py",
   "mimetype": "text/x-python",
   "name": "python",
   "nbconvert_exporter": "python",
   "pygments_lexer": "ipython3",
   "version": "3.11.11"
  },
  "widgets": {
   "application/vnd.jupyter.widget-state+json": {
    "state": {},
    "version_major": 2,
    "version_minor": 0
   }
  }
 },
 "nbformat": 4,
 "nbformat_minor": 4
}
